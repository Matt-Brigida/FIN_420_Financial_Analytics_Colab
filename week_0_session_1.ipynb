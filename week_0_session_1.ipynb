{
  "nbformat": 4,
  "nbformat_minor": 0,
  "metadata": {
    "colab": {
      "provenance": [],
      "collapsed_sections": [
        "DRBV5QMMaFTp"
      ],
      "authorship_tag": "ABX9TyNr2bJkQmPu/HjGd9CgGQIj",
      "include_colab_link": true
    },
    "kernelspec": {
      "name": "python3",
      "display_name": "Python 3"
    }
  },
  "cells": [
    {
      "cell_type": "markdown",
      "metadata": {
        "id": "view-in-github",
        "colab_type": "text"
      },
      "source": [
        "<a href=\"https://colab.research.google.com/github/Matt-Brigida/FIN_420_Financial_Analytics_Colab/blob/master/week_0_session_1.ipynb\" target=\"_parent\"><img src=\"https://colab.research.google.com/assets/colab-badge.svg\" alt=\"Open In Colab\"/></a>"
      ]
    },
    {
      "cell_type": "markdown",
      "metadata": {
        "id": "52Gxm4643-lH"
      },
      "source": [
        "# Interacting with Python\n",
        "\n",
        "We'll do all our interaction with Python (specifically Python 3.x) in these notebooks.  I recommend you first adjust the notebooks settings to your preferences. You can do so by clicking the gear icon in the  upper right.  For example, I use a dark background.\n",
        "\n",
        "## Markdown\n",
        "\n",
        "The text you write is in a format known as `Markdown`.  It is essentially a simple way to write `HTML`.  For example, when I write \\** before and after a word, it becomes <b>bold</b> in the webpage---the \\** is translated into the \\<b> HTML tag.  You can also simply write HTML if you choose.\n",
        "\n",
        "[Here is a good Markdown Cheatsheet](https://github.com/adam-p/markdown-here/wiki/Markdown-Cheatsheet).\n",
        "\n",
        "Note, you can also export Markdown to pdf via LaTeX, or also MS Word.  So by learning Markdown you can export to multiple formats.\n",
        "\n",
        "## Sharing Notebooks\n",
        "\n",
        "Also in the upper right is the `Share` button.  A significant benefit of writing your code in a Juypter Notebook which is hosted online, is the ease with which you can share your work.\n",
        "\n",
        "## Python Packages\n",
        "\n",
        "We will cover python packages in detail later, however at this point it is imporant to note that the Colab notebooks we will use have many of the packages we will use preinstalled.\n",
        "\n",
        "# Linux Server\n",
        "\n",
        "This notebook is running in a Linux virtual machine, and we can interact with this virtual machine via the [BASH shell](https://en.wikipedia.org/wiki/Bash_%28Unix_shell%29).  While it is not necessary to know anything about UNIX/Linux or the BASH shell to use Python or complete this course, we will interact with the Linux system and so it can be helpful.\n",
        "\n",
        "To send a command to the BASH shell we begin a code block with `!`.  For example we can see all the variables defined in our environment with the `env` BASH command.\n",
        "\n",
        "\n"
      ]
    },
    {
      "cell_type": "code",
      "metadata": {
        "id": "TjfNONtN75bx"
      },
      "source": [
        "!env"
      ],
      "execution_count": null,
      "outputs": []
    },
    {
      "cell_type": "markdown",
      "metadata": {
        "id": "YaqbOAe48Eb5"
      },
      "source": [
        "On the first line you can see our CUDNN version.  Let's take a look at anything related to Python."
      ]
    },
    {
      "cell_type": "code",
      "metadata": {
        "id": "QL2BSinl8NU5",
        "colab": {
          "base_uri": "https://localhost:8080/"
        },
        "outputId": "cc35cc2d-d6e6-48a2-a0e9-9551e656ad91"
      },
      "source": [
        "!env | grep python"
      ],
      "execution_count": null,
      "outputs": [
        {
          "output_type": "stream",
          "text": [
            "CLOUDSDK_PYTHON=python3\n",
            "PYTHONPATH=/env/python\n"
          ],
          "name": "stdout"
        }
      ]
    },
    {
      "cell_type": "code",
      "metadata": {
        "id": "OkeQdgIxTiwG"
      },
      "source": [
        "!env > my_env.txt"
      ],
      "execution_count": null,
      "outputs": []
    },
    {
      "cell_type": "code",
      "metadata": {
        "id": "jqm299PWT7fi"
      },
      "source": [
        "!cat my_env.txt"
      ],
      "execution_count": null,
      "outputs": []
    },
    {
      "cell_type": "markdown",
      "metadata": {
        "id": "ojxPJwc08nal"
      },
      "source": [
        "Which shows we are running Python 3 and its location on the system.  \n",
        "\n",
        "### The Only BASH Command You Will *Need*\n",
        "\n",
        "Our only necessary use of BASH is to install Python packages which are not already installed on the system.  To do so we'll use the [pip](https://pip.pypa.io/en/stable/) package manager.  For example, to install a package, say the [pytorch](https://pytorch.org/) machine learning framework you execute the following code:"
      ]
    },
    {
      "cell_type": "code",
      "metadata": {
        "id": "Pqya-zBtfDUi"
      },
      "source": [
        "!pip install torch"
      ],
      "execution_count": null,
      "outputs": []
    },
    {
      "cell_type": "markdown",
      "metadata": {
        "id": "c-VQbDPhSWLa"
      },
      "source": [
        "# Basic Interaction with Python\n",
        "\n",
        "We enter Python code in a code block.  For example, the code below will add numbers and print \"hello\"."
      ]
    },
    {
      "cell_type": "code",
      "metadata": {
        "colab": {
          "base_uri": "https://localhost:8080/"
        },
        "id": "U-3LopLJSmcv",
        "outputId": "18068330-0eb8-4ed9-ae14-93e7f8cf0bd5"
      },
      "source": [
        "1 + 6"
      ],
      "execution_count": null,
      "outputs": [
        {
          "output_type": "execute_result",
          "data": {
            "text/plain": [
              "7"
            ]
          },
          "metadata": {
            "tags": []
          },
          "execution_count": 42
        }
      ]
    },
    {
      "cell_type": "code",
      "metadata": {
        "id": "4BqC2JHKSpfi"
      },
      "source": [
        "print(\"hello\")"
      ],
      "execution_count": null,
      "outputs": []
    },
    {
      "cell_type": "code",
      "metadata": {
        "id": "oooYt9PLSruw"
      },
      "source": [
        "x = 5"
      ],
      "execution_count": null,
      "outputs": []
    },
    {
      "cell_type": "code",
      "metadata": {
        "id": "-UwXQxJ7SvCj"
      },
      "source": [
        "y = 3"
      ],
      "execution_count": null,
      "outputs": []
    },
    {
      "cell_type": "code",
      "metadata": {
        "id": "z-P3H9gSSw0f"
      },
      "source": [
        "print(x**y)"
      ],
      "execution_count": null,
      "outputs": []
    },
    {
      "cell_type": "code",
      "metadata": {
        "id": "kiJbwnwYn4v-"
      },
      "source": [
        "7/10"
      ],
      "execution_count": null,
      "outputs": []
    },
    {
      "cell_type": "markdown",
      "metadata": {
        "id": "A4pEf_Sqn9zB"
      },
      "source": [
        "A **text** cell."
      ]
    },
    {
      "cell_type": "code",
      "metadata": {
        "id": "PfKZbR6xoYYI"
      },
      "source": [
        "7 > 7"
      ],
      "execution_count": null,
      "outputs": []
    },
    {
      "cell_type": "markdown",
      "metadata": {
        "id": "qAhmqUnxS7_2"
      },
      "source": [
        "## Basic Arithmetic Operations\n",
        "\n",
        "- Add: `+`\n",
        "- Subtract: `-`\n",
        "- Multiply: `*`\n",
        "- Divide: `/`\n",
        "- Exponent: `**`\n"
      ]
    },
    {
      "cell_type": "markdown",
      "metadata": {
        "id": "OsxEvXgvTkvk"
      },
      "source": [
        "This is all we will need for now, but see [here for a full list of Python operators](https://www.w3schools.com/python/python_operators.asp)."
      ]
    },
    {
      "cell_type": "markdown",
      "metadata": {
        "id": "4HqrFmAQye3P"
      },
      "source": [
        "# Defining Functions\n",
        "\n",
        "If a function is not provided in a package, we can define it ourselves essentially adding it to the language.\n",
        "\n",
        "You don't need to understand everything in this section---in fact some code is a little confusing.  There are only a couple of big takeaways:\n",
        "\n",
        "- Indentation matters.\n",
        "- You will mainly use functions **created by others**.\n",
        "- These functions are documented within the function itself.\n",
        "- You can create larger analyses by chaining together functions.\n",
        "- Test what happens when you do things like multiplying a list by an int.  There is no way to memorize this in the beginning, it is best just to test it."
      ]
    },
    {
      "cell_type": "markdown",
      "metadata": {
        "id": "ih5uWqMB__a9"
      },
      "source": [
        "The following will define a function named `square_it` that takes a single argument `x`.  The function returns the square of `x`."
      ]
    },
    {
      "cell_type": "code",
      "metadata": {
        "id": "W84I3udF0DTY"
      },
      "source": [
        "def square_it(x):\n",
        "  return x * x\n",
        "\n",
        "print(square_it(6))"
      ],
      "execution_count": null,
      "outputs": []
    },
    {
      "cell_type": "markdown",
      "metadata": {
        "id": "MIyWBJQ3AUbo"
      },
      "source": [
        "## Indentation is Important\n",
        "\n",
        "Most other languages (C/C++, Javascript, Rust, R, etc) group code using `{}`.  Python is different, it groups code by indentation.  For example, above the function definition must be indented relative to the `def` line.  If it is now, it will case an error, see below:\n"
      ]
    },
    {
      "cell_type": "code",
      "metadata": {
        "id": "s7SEJ_6TlSyF"
      },
      "source": [
        "def square_it(x):\n",
        "return x * x"
      ],
      "execution_count": null,
      "outputs": []
    },
    {
      "cell_type": "markdown",
      "metadata": {
        "id": "yp5Jv502lyfl"
      },
      "source": [
        "For now, you can just remember to indent anything after an `:`. Conveniently, the Colab notebook is smart enough to do this for you.  It will automatically indent anything after a `:`, and you would actually have to backspace the indentation to cause an error."
      ]
    },
    {
      "cell_type": "markdown",
      "metadata": {
        "id": "UntlxIXr0NE3"
      },
      "source": [
        "# Application: Bond Valuation\n",
        "\n",
        "Creating a function is useful when we want to reuse code regularly.  For example, calculating a present value is a common task in finance.  So we can create a function that takes the future value, interest rate per period, and number of periods as inputs.  This is similar to having a formul in Excel that references other cells."
      ]
    },
    {
      "cell_type": "markdown",
      "metadata": {
        "id": "zG0JPn4ev5_t"
      },
      "source": [
        "$$PV = \\frac{CF}{(1 + r)^n}$$\n"
      ]
    },
    {
      "cell_type": "code",
      "metadata": {
        "id": "YT_e9HoDyara"
      },
      "source": [
        "def present_value(CF, rate, periods):\n",
        "  return CF / ((1 + rate)**periods)"
      ],
      "execution_count": null,
      "outputs": []
    },
    {
      "cell_type": "markdown",
      "metadata": {
        "id": "Yu8MR5zWvkME"
      },
      "source": [
        "We can then call the function with:"
      ]
    },
    {
      "cell_type": "code",
      "metadata": {
        "id": "ArPHLZS0yyFz"
      },
      "source": [
        "present_value(100, 0.07, 10)"
      ],
      "execution_count": null,
      "outputs": []
    },
    {
      "cell_type": "markdown",
      "metadata": {
        "id": "xP30g-WoPHT6"
      },
      "source": [
        "### Function Documentation\n",
        "\n",
        "Providing documentation with your code is important.  It may now be clear to you what your code does, but what about after not looking at it for 6 months?\n",
        "\n",
        "Documentation for functions is provided in the following manner.  After the first line of the function (the `def`) the documentation is provided between three single quotes.  Additionally, below each function argument is described, including the argument type.\n"
      ]
    },
    {
      "cell_type": "code",
      "metadata": {
        "id": "sGmk3E_-x28t"
      },
      "source": [
        "def present_value(CF, rate, periods):\n",
        "  '''\n",
        "  Calculate the present value of some future cash flow.\n",
        "\n",
        "  :param float CF: The future cash flow.\n",
        "  :param float rate: The discount rate per period.\n",
        "  :param int periods: The number of periods.\n",
        "  '''\n",
        "  return CF / ((1 + rate)**periods)"
      ],
      "execution_count": null,
      "outputs": []
    },
    {
      "cell_type": "markdown",
      "metadata": {
        "id": "XSaERwB0F1jb"
      },
      "source": [
        "Once you have documented the function, a decent IDE will show that documentation when autocompleting code."
      ]
    },
    {
      "cell_type": "code",
      "metadata": {
        "id": "QOUv6ca6FuMK"
      },
      "source": [
        "prese"
      ],
      "execution_count": null,
      "outputs": []
    },
    {
      "cell_type": "markdown",
      "metadata": {
        "id": "ysR4rGEtzQBg"
      },
      "source": [
        "### Bond Cash Flows\n",
        "\n",
        "To value a bond, let's also create a function that will provide list of cash flow for the bond.  Since we are only dealing with annual payment bonds, the bond's annual coupon payment (*C*) is:\n",
        "\n",
        "$$C = \\$1000 * coupon\\ rate$$\n",
        "\n",
        "However in the last year the bond also pays its par value (\\$1000). So the bond's final cash flow is $C + \\$1000$."
      ]
    },
    {
      "cell_type": "code",
      "metadata": {
        "id": "ROmH3nqWOX9O"
      },
      "source": [
        "def create_bond_CFs(coupon, years):\n",
        "  '''\n",
        "  Create a list of bond cash flows.\n",
        "\n",
        "  :param float coupon: The bond's coupon rate.\n",
        "  :param int years: The number of years to maturity.\n",
        "  '''\n",
        "  tmp = [coupon * 1000] * years\n",
        "  tmp[years-1] = tmp[years-1] + 1000\n",
        "  return tmp"
      ],
      "execution_count": null,
      "outputs": []
    },
    {
      "cell_type": "markdown",
      "metadata": {
        "id": "lAQzcEIiU-rn"
      },
      "source": [
        "Note the use of `list` times `int` above.  What happens when you multiple a `list` by an `int`?\n",
        "\n",
        "This is a `char` times an int."
      ]
    },
    {
      "cell_type": "code",
      "metadata": {
        "colab": {
          "base_uri": "https://localhost:8080/",
          "height": 39
        },
        "id": "-SoFimcGUOAI",
        "outputId": "05ffebcd-5b49-4909-c61b-b66656c649f5"
      },
      "source": [
        "\"Money printer goes b\" + \"r\" * 30"
      ],
      "execution_count": null,
      "outputs": [
        {
          "output_type": "execute_result",
          "data": {
            "application/vnd.google.colaboratory.intrinsic+json": {
              "type": "string"
            },
            "text/plain": [
              "'Money printer goes brrrrrrrrrrrrrrrrrrrrrrrrrrrrrr'"
            ]
          },
          "metadata": {
            "tags": []
          },
          "execution_count": 58
        }
      ]
    },
    {
      "cell_type": "markdown",
      "metadata": {
        "id": "zk_srcdfUnpT"
      },
      "source": [
        "A list behaves similarly:"
      ]
    },
    {
      "cell_type": "code",
      "metadata": {
        "colab": {
          "base_uri": "https://localhost:8080/"
        },
        "id": "B2_34L-nUqPU",
        "outputId": "9e3562b7-7831-4a49-98b0-27332ac8e4b5"
      },
      "source": [
        "[\"r\", \"e\", \"d\"] * 5"
      ],
      "execution_count": null,
      "outputs": [
        {
          "output_type": "execute_result",
          "data": {
            "text/plain": [
              "['r', 'e', 'd', 'r', 'e', 'd', 'r', 'e', 'd', 'r', 'e', 'd', 'r', 'e', 'd']"
            ]
          },
          "metadata": {
            "tags": []
          },
          "execution_count": 60
        }
      ]
    },
    {
      "cell_type": "code",
      "metadata": {
        "colab": {
          "base_uri": "https://localhost:8080/"
        },
        "id": "E-5dn__YHvwi",
        "outputId": "38a16530-8b9a-49b7-942d-95278b2cdf30"
      },
      "source": [
        "create_bond_CFs(0.05, 10)"
      ],
      "execution_count": null,
      "outputs": [
        {
          "output_type": "execute_result",
          "data": {
            "text/plain": [
              "[50.0, 50.0, 50.0, 50.0, 50.0, 50.0, 50.0, 50.0, 50.0, 1050.0]"
            ]
          },
          "metadata": {
            "tags": []
          },
          "execution_count": 57
        }
      ]
    },
    {
      "cell_type": "markdown",
      "metadata": {
        "id": "JXRokXFZM9xJ"
      },
      "source": [
        "### Passing the Return Value as an Argument\n",
        "\n",
        "We can use our `present_value` function as an argument in other functions.   This is often referred to as a language having \"[first class functions](https://en.wikipedia.org/wiki/First-class_function)\".\n",
        "\n",
        "In this way we can chain more simple functions together to produce a more complicated calculation."
      ]
    },
    {
      "cell_type": "markdown",
      "metadata": {
        "id": "wGDvYqRAiiOs"
      },
      "source": [
        "Now let's use our functions to value a bond."
      ]
    },
    {
      "cell_type": "code",
      "metadata": {
        "id": "UoIgtPNzjYh9"
      },
      "source": [
        "CFs = create_bond_CFs(0.05, 10)"
      ],
      "execution_count": null,
      "outputs": []
    },
    {
      "cell_type": "markdown",
      "metadata": {
        "id": "oFM9lQVtziA9"
      },
      "source": [
        "This creates a list with our bond's cash flows:"
      ]
    },
    {
      "cell_type": "code",
      "metadata": {
        "id": "JADXt5xVzlST"
      },
      "source": [
        "CFs"
      ],
      "execution_count": null,
      "outputs": []
    },
    {
      "cell_type": "markdown",
      "metadata": {
        "id": "p1rRsB0xznlX"
      },
      "source": [
        "We now need to discount each cash flow to today (time 0)."
      ]
    },
    {
      "cell_type": "code",
      "metadata": {
        "id": "KmwWr8Qu0Cft"
      },
      "source": [
        "discount_rate = 0.04\n",
        "DCF = []\n",
        "for years in list(range(0,10)):\n",
        "  DCF.append(present_value(CFs[years], discount_rate, years + 1))\n",
        "\n",
        "print(DCF)"
      ],
      "execution_count": null,
      "outputs": []
    },
    {
      "cell_type": "code",
      "metadata": {
        "id": "slosqsvW3U5I"
      },
      "source": [
        "sum(DCF)"
      ],
      "execution_count": null,
      "outputs": []
    },
    {
      "cell_type": "markdown",
      "metadata": {
        "id": "0VKrN6y7aSWS"
      },
      "source": [
        "But wait, **we didn't make use first class functions**.  The following approach creates the bond's cash flows, which are fed into the zip function."
      ]
    },
    {
      "cell_type": "code",
      "metadata": {
        "id": "DUYFQDk0akFg"
      },
      "source": [
        "discount_rate = 0.04\n",
        "sum(present_value(x, discount_rate, y) for x, y in zip(create_bond_CFs(0.05, 10), range(1, 11)))"
      ],
      "execution_count": null,
      "outputs": []
    },
    {
      "cell_type": "markdown",
      "metadata": {
        "id": "0SKfUdRJcqJk"
      },
      "source": [
        "The idea of the above is just to show you how you can feed the output of functions into other functions.  In this manner you can break large problems into pieces and chain them together.  \n",
        "\n",
        "### An Easier Approach\n",
        "\n",
        "Admittedly, however, the above is not easy to understand, and code should be as easy to understand as possible. We'll discuss it later, but the line above is the sum of a list comprehension which loops over two variables.  We can value a bond much more easily with the function below."
      ]
    },
    {
      "cell_type": "code",
      "metadata": {
        "id": "jv0Vs8ccdf2Y"
      },
      "source": [
        "def easy_bond_value(coupon_rate, YTM, years):\n",
        "  '''\n",
        "  Value a bond the easy way.  Cash flows are assumed to be annual.\n",
        "  The function makes use of the present value of an annuity formula.\n",
        "\n",
        "  :param float coupon_rate: the bond's coupon rate.\n",
        "  :param floar YTM: the bond's yield to maturity (discount rate).\n",
        "  :param int years\" the number of years to maturity.\n",
        "  '''\n",
        "  coupon = coupon_rate * 1000\n",
        "  return coupon * (1 - 1 / (1 + YTM)**years) / YTM + 1000 / (1 + YTM)**years\n",
        "\n",
        "## Now use the easy function to value our bond.\n",
        "print(easy_bond_value(0.05, 0.04, 10))"
      ],
      "execution_count": null,
      "outputs": []
    },
    {
      "cell_type": "markdown",
      "metadata": {
        "id": "kJzM_x3ur9S4"
      },
      "source": [
        "Lastly, in the excitement we neglected to format our output properly.  We don't tell the use what units the result is in, and we also provide the result with far too much precision.  Let's fix this:"
      ]
    },
    {
      "cell_type": "code",
      "metadata": {
        "colab": {
          "base_uri": "https://localhost:8080/"
        },
        "id": "fDMZUVUJv7q5",
        "outputId": "7731e471-dc8e-498d-f7c9-cabe89da421b"
      },
      "source": [
        "print(\"The bond value is: $\" + str(round(easy_bond_value(0.05, 0.04, 10), 2)))"
      ],
      "execution_count": null,
      "outputs": [
        {
          "output_type": "stream",
          "text": [
            "The bond value is: $1081.11\n"
          ],
          "name": "stdout"
        }
      ]
    },
    {
      "cell_type": "markdown",
      "metadata": {
        "id": "2tO-ABa_wLg2"
      },
      "source": [
        "The `round(x, 2)` rounds x to 2 digits, and the `str()` function converts the float returned by `easy_bond_value()` to a string.  Note we **don't** want to have the `easy_bond_value()` function return this string, because we may want to use the bond value as an input into another function."
      ]
    },
    {
      "cell_type": "markdown",
      "metadata": {
        "id": "fiWXeN4m9IFK"
      },
      "source": [
        "## [Optional] Types of Control Flow\n",
        "\n",
        "We used a `for loop` above.  We'll discuss other control flow tools as we use them. But in case you want to read a bit about control flow, see the [documentation](https://docs.python.org/3/tutorial/controlflow.html) here.  We will mainly use `if` statements and `for loops`, and will likely not use `while` loops."
      ]
    },
    {
      "cell_type": "markdown",
      "metadata": {
        "id": "swIDnAiDJKB7"
      },
      "source": [
        "# Basic Data Types\n",
        "\n",
        "We'll discuss various data `types` as we encounter them.  However here we'll give a brief overview of some important types.  Note, this list does **not** include every type---there are qute a few we will not need, such as complex number types.  The main reason to discuss data types is to understand what we can do with particular variables.\n",
        "\n",
        "- Text String (`str`): \"Hello\"\n",
        "- Numeric Types (`int`, `float`): 5, 5.0\n",
        "- Lists (`list`): [\"aapl\", \"tsla\", \"msft\"]\n",
        "- Mapping (`dict`): {\"ticker\" : \"aapl\", \"price\" : 130.45}\n",
        "\n",
        "We can see the type of any variable using the `type()` function."
      ]
    },
    {
      "cell_type": "code",
      "metadata": {
        "id": "IPBJh-OwMJKQ"
      },
      "source": [
        "a_list = [\"hello\", 5, 5.0]\n",
        "print(type(a_list))\n",
        "[type(x) for x in a_list] # note this is called a 'list comprehension'"
      ],
      "execution_count": null,
      "outputs": []
    },
    {
      "cell_type": "markdown",
      "metadata": {
        "id": "Rh2nhLEYReQu"
      },
      "source": [
        "# Exercise\n",
        "\n",
        "Create a function which will calculate the future value of a single cash flow.  The future value is:\n",
        "\n",
        "$$FV = PV(1+r)^n$$\n",
        "\n",
        "where *PV* is the present value, *r* is the rate per period, and *n* is the number of periods.\n",
        "\n",
        "Use your function to calculate the future value of \\$100 in 20 years at 7% interest.\n",
        "\n",
        "## Bonus\n",
        "\n",
        "Create a function to calculate the future value of an *annuity*.  An annuity is a fixed payment at the end of every period (here a year) for fix number of periods.  To calculate the future value of an annuity you calculate the future value of each individual payment in the past period, and sum these future values.  For example, say we have a 3 year annuity with \\$100 payments, and the annual interest rate is 5%.  The future value of the annuity is:\n",
        "\n",
        "$$FVA = \\$100(1.05)^2 + $100(1.05) + \\$100 = \\$315.25$$\n",
        "\n",
        "Try and calculate the future values individually like above.  If you are not able, you can also use this formula:\n",
        "\n",
        "$$FVA = C\\frac{((1+r)^n-1)}{r} = \\$100\\frac{((1.05)^3-1)}{0.05} = \\$315.25$$\n"
      ]
    },
    {
      "cell_type": "markdown",
      "metadata": {
        "id": "DRBV5QMMaFTp"
      },
      "source": [
        "# Answer\n",
        "\n"
      ]
    },
    {
      "cell_type": "code",
      "metadata": {
        "id": "t_g8njKWaG9O"
      },
      "source": [
        "def future_value(CF, rate, periods):\n",
        "  '''\n",
        "  Calculate the future value of some future cash flow.\n",
        "\n",
        "  :param float CF: The future cash flow.\n",
        "  :param float rate: The discount rate per period.\n",
        "  :param int periods: The number of periods.\n",
        "  '''\n",
        "  return CF * (1 + rate)**periods"
      ],
      "execution_count": null,
      "outputs": []
    },
    {
      "cell_type": "code",
      "metadata": {
        "id": "eT7SMgBcaeQf"
      },
      "source": [
        "future_value(100, 0.07, 20)"
      ],
      "execution_count": null,
      "outputs": []
    }
  ]
}