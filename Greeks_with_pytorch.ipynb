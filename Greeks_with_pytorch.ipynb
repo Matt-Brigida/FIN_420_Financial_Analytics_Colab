{
  "nbformat": 4,
  "nbformat_minor": 0,
  "metadata": {
    "colab": {
      "provenance": [],
      "authorship_tag": "ABX9TyMdhy7hOuZEV/0umxVHMNmI",
      "include_colab_link": true
    },
    "kernelspec": {
      "name": "python3",
      "display_name": "Python 3"
    },
    "language_info": {
      "name": "python"
    }
  },
  "cells": [
    {
      "cell_type": "markdown",
      "metadata": {
        "id": "view-in-github",
        "colab_type": "text"
      },
      "source": [
        "<a href=\"https://colab.research.google.com/github/Matt-Brigida/FIN_420_Financial_Analytics_Colab/blob/master/Greeks_with_pytorch.ipynb\" target=\"_parent\"><img src=\"https://colab.research.google.com/assets/colab-badge.svg\" alt=\"Open In Colab\"/></a>"
      ]
    },
    {
      "cell_type": "markdown",
      "source": [
        "# Calculating Greeks with PyTorch\n",
        "\n",
        "There is a [good blog post here](http://eadains.github.io/OptionallyBayesHugo/posts/option_pricing/) which shows how PyTorch can be used to calculate the Greeks of the Black-Scholes Option Pricing model.  We'll run through the code of the post learning a bit about PyTorch along the way, and then apply the same method to calculate the Greeks for the Margrabe Option Pricing model."
      ],
      "metadata": {
        "id": "VLljUycSHaNb"
      }
    },
    {
      "cell_type": "markdown",
      "source": [
        "The following imports the PyTorch library as well as the `Normal` module.\n",
        "\n"
      ],
      "metadata": {
        "id": "fVCrJj2aIBBQ"
      }
    },
    {
      "cell_type": "code",
      "source": [
        "import torch\n",
        "from torch.distributions import Normal"
      ],
      "metadata": {
        "id": "k1Ygd3RgH4XV"
      },
      "execution_count": null,
      "outputs": []
    },
    {
      "cell_type": "markdown",
      "source": [
        "Below we create Standard Normal Cumulative and Probability Density Functions.  The *Standard* signifies that the mean is set to 0 and the variance is set to 1. Remember the Black-Scholes model assumes prices are lognormally distributes, which means returns are normally distributed."
      ],
      "metadata": {
        "id": "Qqs8bnWtIp16"
      }
    },
    {
      "cell_type": "code",
      "source": [
        "cdf = Normal(0, 1).cdf\n",
        "pdf = lambda x: torch.exp(Normal(0, 1).log_prob(x))"
      ],
      "metadata": {
        "id": "mAfjAra35UX-"
      },
      "execution_count": null,
      "outputs": []
    },
    {
      "cell_type": "code",
      "source": [
        "cdf(torch.tensor(0))"
      ],
      "metadata": {
        "colab": {
          "base_uri": "https://localhost:8080/"
        },
        "id": "1-HE2ubI6d9x",
        "outputId": "98475ad8-d02f-4b66-d8ec-3818b5325e6a"
      },
      "execution_count": null,
      "outputs": [
        {
          "output_type": "execute_result",
          "data": {
            "text/plain": [
              "tensor(0.5000)"
            ]
          },
          "metadata": {},
          "execution_count": 9
        }
      ]
    },
    {
      "cell_type": "code",
      "source": [
        "pdf(torch.tensor(0))"
      ],
      "metadata": {
        "colab": {
          "base_uri": "https://localhost:8080/"
        },
        "id": "iR2x9GzM6sRu",
        "outputId": "ab1fc2f9-ebd7-4d77-82a3-6b3a2dee93dc"
      },
      "execution_count": null,
      "outputs": [
        {
          "output_type": "execute_result",
          "data": {
            "text/plain": [
              "tensor(0.3989)"
            ]
          },
          "metadata": {},
          "execution_count": 10
        }
      ]
    },
    {
      "cell_type": "code",
      "source": [
        "def BS_Call_Price(S, K, sigma, T, r):\n",
        "  d1 = (1 / (sigma * torch.sqrt(T))) * (torch.log(S / K) + (r + sigma * sigma / 2) * T)\n",
        "  d2 = d1 - sigma * torch.sqrt(T)\n",
        "  return(cdf(d1) * S - cdf(d2) * K * torch.exp(-r * T))"
      ],
      "metadata": {
        "id": "Ft0KDZGr6yEx"
      },
      "execution_count": null,
      "outputs": []
    },
    {
      "cell_type": "code",
      "source": [
        "S = torch.tensor(100.0, requires_grad=True)\n",
        "K = torch.tensor(100.0, requires_grad=True)\n",
        "sigma = torch.tensor(0.3, requires_grad=True)\n",
        "T = torch.tensor(0.5, requires_grad=True)\n",
        "r = torch.tensor(0.05, requires_grad=True)"
      ],
      "metadata": {
        "id": "DeefJ5JF8KoG"
      },
      "execution_count": null,
      "outputs": []
    },
    {
      "cell_type": "code",
      "source": [
        "price = BS_Call_Price(S, K, sigma, T, r)\n",
        "print(f\"The option's value is: ${price}\")"
      ],
      "metadata": {
        "colab": {
          "base_uri": "https://localhost:8080/"
        },
        "id": "YIWFUQmJ8myV",
        "outputId": "1335850f-8f34-49f5-b90a-531222b24af9"
      },
      "execution_count": null,
      "outputs": [
        {
          "output_type": "stream",
          "name": "stdout",
          "text": [
            "The option's value is: $9.634876251220703\n"
          ]
        }
      ]
    },
    {
      "cell_type": "markdown",
      "source": [
        "## Greeks\n",
        "\n",
        "The Greeks are the first derivatives of the option price with respect to the parameters (S, Volatility, T, r)."
      ],
      "metadata": {
        "id": "sI2vgusX_w35"
      }
    },
    {
      "cell_type": "code",
      "source": [
        "price.backward()"
      ],
      "metadata": {
        "id": "50CzTg-k8xw5"
      },
      "execution_count": null,
      "outputs": []
    },
    {
      "cell_type": "code",
      "source": [
        "print(f\"Delta: {S.grad}\\nVega: {sigma.grad}\\nTheta: {-T.grad}\\nRho: {r.grad}\")"
      ],
      "metadata": {
        "colab": {
          "base_uri": "https://localhost:8080/"
        },
        "id": "P3tBxw5M8243",
        "outputId": "762da793-fc77-43f2-e4de-e1ca52cf802f"
      },
      "execution_count": null,
      "outputs": [
        {
          "output_type": "stream",
          "name": "stdout",
          "text": [
            "Delta: 0.5885891318321228\n",
            "Vega: 27.511075973510742\n",
            "Theta: -10.714524269104004\n",
            "Rho: 24.612018585205078\n"
          ]
        }
      ]
    },
    {
      "cell_type": "markdown",
      "source": [
        "Note $\\theta = -\\frac{\\partial S}{\\partial T}$ so we change the sign of the partial derivative above."
      ],
      "metadata": {
        "id": "5qmvW7t--ZNW"
      }
    },
    {
      "cell_type": "markdown",
      "source": [
        "Should we add a dividend yield Greek?  "
      ],
      "metadata": {
        "id": "S0H8YNv5FSZk"
      }
    },
    {
      "cell_type": "markdown",
      "source": [
        "## Gamma"
      ],
      "metadata": {
        "id": "KBQ9lOny_uDH"
      }
    },
    {
      "cell_type": "code",
      "source": [
        "S.grad.grad"
      ],
      "metadata": {
        "id": "SdSYKF2z_h-c"
      },
      "execution_count": null,
      "outputs": []
    },
    {
      "cell_type": "markdown",
      "source": [
        "# Exercise\n",
        "\n",
        "Use PyTorch to calculate the Greeks for the Margrabe formula:"
      ],
      "metadata": {
        "id": "klcFauJo-8CB"
      }
    },
    {
      "cell_type": "markdown",
      "source": [
        "# Notes:\n",
        "\n",
        "[A very good post about how the first derivatives are calculated.](https://pytorch.org/blog/overview-of-pytorch-autograd-engine/)\n",
        "\n",
        "[A follow-up post on computational graphs.](https://pytorch.org/blog/computational-graphs-constructed-in-pytorch/)"
      ],
      "metadata": {
        "id": "HdnoSf_nH6uQ"
      }
    }
  ]
}