{
  "nbformat": 4,
  "nbformat_minor": 0,
  "metadata": {
    "colab": {
      "provenance": [],
      "authorship_tag": "ABX9TyPbgZ4MWASPPs7MoR+YXYN1",
      "include_colab_link": true
    },
    "kernelspec": {
      "name": "python3",
      "display_name": "Python 3"
    }
  },
  "cells": [
    {
      "cell_type": "markdown",
      "metadata": {
        "id": "view-in-github",
        "colab_type": "text"
      },
      "source": [
        "<a href=\"https://colab.research.google.com/github/Matt-Brigida/FIN_420_Financial_Analytics_Colab/blob/master/week_2_session_3_sql.ipynb\" target=\"_parent\"><img src=\"https://colab.research.google.com/assets/colab-badge.svg\" alt=\"Open In Colab\"/></a>"
      ]
    },
    {
      "cell_type": "markdown",
      "metadata": {
        "id": "7PVERC73cZGT"
      },
      "source": [
        "# Can Python Interact with the Workhorse of Banking and Finance?\n",
        "\n",
        "Banks generally store loan and other information in large relational databases.  The *SQL* Language is often used by financial analysts to retreive data from these databases.\n",
        "\n",
        "For example, say you offer auto loans.  You can assign a unique identifier (key) to each loan application.  This key serves as a row number and each columns records a detail about the application---loan amount, income, credit score, etc.\n",
        "\n",
        "If the loan is granted you can record each payment made toward this loan (identified by the unique loan identifier).  If the loan becomes delinquent or defaults, you record the dates of non-payment.\n",
        "\n",
        "You then have a database loan application with loan performance.  This is clearly useful to analyze which loans tend to be deliquent or default.\n",
        "\n",
        "Similarly, mortgage applications and payments are stored in large SQL databases.  As an example of a mortgage analysis employing SQL, [see this post](https://toddwschneider.com/posts/mortgages-are-about-math-open-source-loan-level-analysis-of-fannie-and-freddie/\n",
        ") and [this GitHub repo](https://github.com/toddwschneider/agency-loan-level).\n",
        "\n",
        "Normally the financial analyst who is going to do this analysis is responsible for extracting the data from the database herself.  Thus, you can consider what we learn here as the first step in many of your analyses, and therefore all the analysis that follows is dependent on getting this right.\n",
        "\n"
      ]
    },
    {
      "cell_type": "markdown",
      "metadata": {
        "id": "ZWv9tXcSC9vt"
      },
      "source": [
        "We are going to use Pandas to interect with the databse."
      ]
    },
    {
      "cell_type": "code",
      "metadata": {
        "id": "Oa4897GYnJmL"
      },
      "source": [
        "import pandas as pd"
      ],
      "execution_count": null,
      "outputs": []
    },
    {
      "cell_type": "markdown",
      "metadata": {
        "id": "6IeKHyZ2FbLW"
      },
      "source": [
        "## Create Database Connection"
      ]
    },
    {
      "cell_type": "markdown",
      "metadata": {
        "id": "wzhBF8vNDA8K"
      },
      "source": [
        "We'll use *SQLAlchemy* to create a connection object to a database.  Below we create a *SQLite* database in RAM.  We'll load tables into this database and then execute queries."
      ]
    },
    {
      "cell_type": "code",
      "metadata": {
        "id": "aqN0DhYUmu8k"
      },
      "source": [
        "from sqlalchemy import create_engine\n",
        "engine = create_engine('sqlite://', echo=False)"
      ],
      "execution_count": null,
      "outputs": []
    },
    {
      "cell_type": "markdown",
      "metadata": {
        "id": "Nsdtzc-qFZkD"
      },
      "source": [
        "## Get Spreadsheet Tables"
      ]
    },
    {
      "cell_type": "markdown",
      "source": [
        "The following is to fix an ssl cert issue:"
      ],
      "metadata": {
        "id": "9GfiCf1Apvvd"
      }
    },
    {
      "cell_type": "code",
      "source": [
        "import ssl\n",
        "ssl._create_default_https_context = ssl._create_unverified_context"
      ],
      "metadata": {
        "id": "SLaKIh-LpzqC"
      },
      "execution_count": null,
      "outputs": []
    },
    {
      "cell_type": "code",
      "metadata": {
        "id": "OyhCT3KvnLwd",
        "colab": {
          "base_uri": "https://localhost:8080/",
          "height": 630
        },
        "outputId": "ce817b7d-dbb9-4a7c-8ba8-45a8216545de"
      },
      "source": [
        "wacc = pd.read_excel(\"http://www.stern.nyu.edu/~adamodar/pc/datasets/wacc.xls\", sheet_name=1, skiprows=18)\n",
        "wacc"
      ],
      "execution_count": null,
      "outputs": [
        {
          "output_type": "execute_result",
          "data": {
            "text/plain": [
              "                        Industry Name  Number of Firms      Beta  \\\n",
              "0                         Advertising               58  1.631738   \n",
              "1                   Aerospace/Defense               77  1.414182   \n",
              "2                       Air Transport               21  1.415965   \n",
              "3                             Apparel               39  1.324697   \n",
              "4                        Auto & Truck               31  1.540598   \n",
              "..                                ...              ...       ...   \n",
              "91                           Trucking               35  1.545124   \n",
              "92                  Utility (General)               15  0.635139   \n",
              "93                    Utility (Water)               16  1.152415   \n",
              "94                       Total Market             7165  1.157270   \n",
              "95  Total Market (without financials)             5649  1.292817   \n",
              "\n",
              "    Cost of Equity   E/(D+E)  Std Dev in Stock  Cost of Debt  Tax Rate  \\\n",
              "0         0.135725  0.689708          0.527221        0.0588  0.063905   \n",
              "1         0.122802  0.793291          0.375555        0.0550  0.086028   \n",
              "2         0.122908  0.349242          0.377275        0.0550  0.104718   \n",
              "3         0.117487  0.659751          0.385087        0.0550  0.120381   \n",
              "4         0.130312  0.665819          0.526141        0.0588  0.029974   \n",
              "..             ...       ...               ...           ...       ...   \n",
              "91        0.130580  0.694861          0.411713        0.0550  0.147859   \n",
              "92        0.076527  0.574135          0.149708        0.0473  0.132030   \n",
              "93        0.107253  0.697367          0.279613        0.0550  0.084454   \n",
              "94        0.107542  0.651373          0.413733        0.0550  0.075198   \n",
              "95        0.115593  0.791146          0.479768        0.0550  0.063847   \n",
              "\n",
              "    After-tax Cost of Debt   D/(D+E)  Cost of Capital  \\\n",
              "0                 0.044100  0.310292         0.107295   \n",
              "1                 0.041250  0.206709         0.105945   \n",
              "2                 0.041250  0.650758         0.069769   \n",
              "3                 0.041250  0.340249         0.091547   \n",
              "4                 0.044100  0.334181         0.101501   \n",
              "..                     ...       ...              ...   \n",
              "91                0.041250  0.305139         0.103322   \n",
              "92                0.035475  0.425865         0.059045   \n",
              "93                0.041250  0.302633         0.087279   \n",
              "94                0.041250  0.348627         0.084431   \n",
              "95                0.041250  0.208854         0.100066   \n",
              "\n",
              "    Cost of Capital (Local Currency)  \n",
              "0                           0.107295  \n",
              "1                           0.105945  \n",
              "2                           0.069769  \n",
              "3                           0.091547  \n",
              "4                           0.101501  \n",
              "..                               ...  \n",
              "91                          0.103322  \n",
              "92                          0.059045  \n",
              "93                          0.087279  \n",
              "94                          0.084431  \n",
              "95                          0.100066  \n",
              "\n",
              "[96 rows x 12 columns]"
            ],
            "text/html": [
              "\n",
              "  <div id=\"df-cf6c5792-e21f-4989-9200-9809fefc4be3\">\n",
              "    <div class=\"colab-df-container\">\n",
              "      <div>\n",
              "<style scoped>\n",
              "    .dataframe tbody tr th:only-of-type {\n",
              "        vertical-align: middle;\n",
              "    }\n",
              "\n",
              "    .dataframe tbody tr th {\n",
              "        vertical-align: top;\n",
              "    }\n",
              "\n",
              "    .dataframe thead th {\n",
              "        text-align: right;\n",
              "    }\n",
              "</style>\n",
              "<table border=\"1\" class=\"dataframe\">\n",
              "  <thead>\n",
              "    <tr style=\"text-align: right;\">\n",
              "      <th></th>\n",
              "      <th>Industry Name</th>\n",
              "      <th>Number of Firms</th>\n",
              "      <th>Beta</th>\n",
              "      <th>Cost of Equity</th>\n",
              "      <th>E/(D+E)</th>\n",
              "      <th>Std Dev in Stock</th>\n",
              "      <th>Cost of Debt</th>\n",
              "      <th>Tax Rate</th>\n",
              "      <th>After-tax Cost of Debt</th>\n",
              "      <th>D/(D+E)</th>\n",
              "      <th>Cost of Capital</th>\n",
              "      <th>Cost of Capital (Local Currency)</th>\n",
              "    </tr>\n",
              "  </thead>\n",
              "  <tbody>\n",
              "    <tr>\n",
              "      <th>0</th>\n",
              "      <td>Advertising</td>\n",
              "      <td>58</td>\n",
              "      <td>1.631738</td>\n",
              "      <td>0.135725</td>\n",
              "      <td>0.689708</td>\n",
              "      <td>0.527221</td>\n",
              "      <td>0.0588</td>\n",
              "      <td>0.063905</td>\n",
              "      <td>0.044100</td>\n",
              "      <td>0.310292</td>\n",
              "      <td>0.107295</td>\n",
              "      <td>0.107295</td>\n",
              "    </tr>\n",
              "    <tr>\n",
              "      <th>1</th>\n",
              "      <td>Aerospace/Defense</td>\n",
              "      <td>77</td>\n",
              "      <td>1.414182</td>\n",
              "      <td>0.122802</td>\n",
              "      <td>0.793291</td>\n",
              "      <td>0.375555</td>\n",
              "      <td>0.0550</td>\n",
              "      <td>0.086028</td>\n",
              "      <td>0.041250</td>\n",
              "      <td>0.206709</td>\n",
              "      <td>0.105945</td>\n",
              "      <td>0.105945</td>\n",
              "    </tr>\n",
              "    <tr>\n",
              "      <th>2</th>\n",
              "      <td>Air Transport</td>\n",
              "      <td>21</td>\n",
              "      <td>1.415965</td>\n",
              "      <td>0.122908</td>\n",
              "      <td>0.349242</td>\n",
              "      <td>0.377275</td>\n",
              "      <td>0.0550</td>\n",
              "      <td>0.104718</td>\n",
              "      <td>0.041250</td>\n",
              "      <td>0.650758</td>\n",
              "      <td>0.069769</td>\n",
              "      <td>0.069769</td>\n",
              "    </tr>\n",
              "    <tr>\n",
              "      <th>3</th>\n",
              "      <td>Apparel</td>\n",
              "      <td>39</td>\n",
              "      <td>1.324697</td>\n",
              "      <td>0.117487</td>\n",
              "      <td>0.659751</td>\n",
              "      <td>0.385087</td>\n",
              "      <td>0.0550</td>\n",
              "      <td>0.120381</td>\n",
              "      <td>0.041250</td>\n",
              "      <td>0.340249</td>\n",
              "      <td>0.091547</td>\n",
              "      <td>0.091547</td>\n",
              "    </tr>\n",
              "    <tr>\n",
              "      <th>4</th>\n",
              "      <td>Auto &amp; Truck</td>\n",
              "      <td>31</td>\n",
              "      <td>1.540598</td>\n",
              "      <td>0.130312</td>\n",
              "      <td>0.665819</td>\n",
              "      <td>0.526141</td>\n",
              "      <td>0.0588</td>\n",
              "      <td>0.029974</td>\n",
              "      <td>0.044100</td>\n",
              "      <td>0.334181</td>\n",
              "      <td>0.101501</td>\n",
              "      <td>0.101501</td>\n",
              "    </tr>\n",
              "    <tr>\n",
              "      <th>...</th>\n",
              "      <td>...</td>\n",
              "      <td>...</td>\n",
              "      <td>...</td>\n",
              "      <td>...</td>\n",
              "      <td>...</td>\n",
              "      <td>...</td>\n",
              "      <td>...</td>\n",
              "      <td>...</td>\n",
              "      <td>...</td>\n",
              "      <td>...</td>\n",
              "      <td>...</td>\n",
              "      <td>...</td>\n",
              "    </tr>\n",
              "    <tr>\n",
              "      <th>91</th>\n",
              "      <td>Trucking</td>\n",
              "      <td>35</td>\n",
              "      <td>1.545124</td>\n",
              "      <td>0.130580</td>\n",
              "      <td>0.694861</td>\n",
              "      <td>0.411713</td>\n",
              "      <td>0.0550</td>\n",
              "      <td>0.147859</td>\n",
              "      <td>0.041250</td>\n",
              "      <td>0.305139</td>\n",
              "      <td>0.103322</td>\n",
              "      <td>0.103322</td>\n",
              "    </tr>\n",
              "    <tr>\n",
              "      <th>92</th>\n",
              "      <td>Utility (General)</td>\n",
              "      <td>15</td>\n",
              "      <td>0.635139</td>\n",
              "      <td>0.076527</td>\n",
              "      <td>0.574135</td>\n",
              "      <td>0.149708</td>\n",
              "      <td>0.0473</td>\n",
              "      <td>0.132030</td>\n",
              "      <td>0.035475</td>\n",
              "      <td>0.425865</td>\n",
              "      <td>0.059045</td>\n",
              "      <td>0.059045</td>\n",
              "    </tr>\n",
              "    <tr>\n",
              "      <th>93</th>\n",
              "      <td>Utility (Water)</td>\n",
              "      <td>16</td>\n",
              "      <td>1.152415</td>\n",
              "      <td>0.107253</td>\n",
              "      <td>0.697367</td>\n",
              "      <td>0.279613</td>\n",
              "      <td>0.0550</td>\n",
              "      <td>0.084454</td>\n",
              "      <td>0.041250</td>\n",
              "      <td>0.302633</td>\n",
              "      <td>0.087279</td>\n",
              "      <td>0.087279</td>\n",
              "    </tr>\n",
              "    <tr>\n",
              "      <th>94</th>\n",
              "      <td>Total Market</td>\n",
              "      <td>7165</td>\n",
              "      <td>1.157270</td>\n",
              "      <td>0.107542</td>\n",
              "      <td>0.651373</td>\n",
              "      <td>0.413733</td>\n",
              "      <td>0.0550</td>\n",
              "      <td>0.075198</td>\n",
              "      <td>0.041250</td>\n",
              "      <td>0.348627</td>\n",
              "      <td>0.084431</td>\n",
              "      <td>0.084431</td>\n",
              "    </tr>\n",
              "    <tr>\n",
              "      <th>95</th>\n",
              "      <td>Total Market (without financials)</td>\n",
              "      <td>5649</td>\n",
              "      <td>1.292817</td>\n",
              "      <td>0.115593</td>\n",
              "      <td>0.791146</td>\n",
              "      <td>0.479768</td>\n",
              "      <td>0.0550</td>\n",
              "      <td>0.063847</td>\n",
              "      <td>0.041250</td>\n",
              "      <td>0.208854</td>\n",
              "      <td>0.100066</td>\n",
              "      <td>0.100066</td>\n",
              "    </tr>\n",
              "  </tbody>\n",
              "</table>\n",
              "<p>96 rows × 12 columns</p>\n",
              "</div>\n",
              "      <button class=\"colab-df-convert\" onclick=\"convertToInteractive('df-cf6c5792-e21f-4989-9200-9809fefc4be3')\"\n",
              "              title=\"Convert this dataframe to an interactive table.\"\n",
              "              style=\"display:none;\">\n",
              "        \n",
              "  <svg xmlns=\"http://www.w3.org/2000/svg\" height=\"24px\"viewBox=\"0 0 24 24\"\n",
              "       width=\"24px\">\n",
              "    <path d=\"M0 0h24v24H0V0z\" fill=\"none\"/>\n",
              "    <path d=\"M18.56 5.44l.94 2.06.94-2.06 2.06-.94-2.06-.94-.94-2.06-.94 2.06-2.06.94zm-11 1L8.5 8.5l.94-2.06 2.06-.94-2.06-.94L8.5 2.5l-.94 2.06-2.06.94zm10 10l.94 2.06.94-2.06 2.06-.94-2.06-.94-.94-2.06-.94 2.06-2.06.94z\"/><path d=\"M17.41 7.96l-1.37-1.37c-.4-.4-.92-.59-1.43-.59-.52 0-1.04.2-1.43.59L10.3 9.45l-7.72 7.72c-.78.78-.78 2.05 0 2.83L4 21.41c.39.39.9.59 1.41.59.51 0 1.02-.2 1.41-.59l7.78-7.78 2.81-2.81c.8-.78.8-2.07 0-2.86zM5.41 20L4 18.59l7.72-7.72 1.47 1.35L5.41 20z\"/>\n",
              "  </svg>\n",
              "      </button>\n",
              "      \n",
              "  <style>\n",
              "    .colab-df-container {\n",
              "      display:flex;\n",
              "      flex-wrap:wrap;\n",
              "      gap: 12px;\n",
              "    }\n",
              "\n",
              "    .colab-df-convert {\n",
              "      background-color: #E8F0FE;\n",
              "      border: none;\n",
              "      border-radius: 50%;\n",
              "      cursor: pointer;\n",
              "      display: none;\n",
              "      fill: #1967D2;\n",
              "      height: 32px;\n",
              "      padding: 0 0 0 0;\n",
              "      width: 32px;\n",
              "    }\n",
              "\n",
              "    .colab-df-convert:hover {\n",
              "      background-color: #E2EBFA;\n",
              "      box-shadow: 0px 1px 2px rgba(60, 64, 67, 0.3), 0px 1px 3px 1px rgba(60, 64, 67, 0.15);\n",
              "      fill: #174EA6;\n",
              "    }\n",
              "\n",
              "    [theme=dark] .colab-df-convert {\n",
              "      background-color: #3B4455;\n",
              "      fill: #D2E3FC;\n",
              "    }\n",
              "\n",
              "    [theme=dark] .colab-df-convert:hover {\n",
              "      background-color: #434B5C;\n",
              "      box-shadow: 0px 1px 3px 1px rgba(0, 0, 0, 0.15);\n",
              "      filter: drop-shadow(0px 1px 2px rgba(0, 0, 0, 0.3));\n",
              "      fill: #FFFFFF;\n",
              "    }\n",
              "  </style>\n",
              "\n",
              "      <script>\n",
              "        const buttonEl =\n",
              "          document.querySelector('#df-cf6c5792-e21f-4989-9200-9809fefc4be3 button.colab-df-convert');\n",
              "        buttonEl.style.display =\n",
              "          google.colab.kernel.accessAllowed ? 'block' : 'none';\n",
              "\n",
              "        async function convertToInteractive(key) {\n",
              "          const element = document.querySelector('#df-cf6c5792-e21f-4989-9200-9809fefc4be3');\n",
              "          const dataTable =\n",
              "            await google.colab.kernel.invokeFunction('convertToInteractive',\n",
              "                                                     [key], {});\n",
              "          if (!dataTable) return;\n",
              "\n",
              "          const docLinkHtml = 'Like what you see? Visit the ' +\n",
              "            '<a target=\"_blank\" href=https://colab.research.google.com/notebooks/data_table.ipynb>data table notebook</a>'\n",
              "            + ' to learn more about interactive tables.';\n",
              "          element.innerHTML = '';\n",
              "          dataTable['output_type'] = 'display_data';\n",
              "          await google.colab.output.renderOutput(dataTable, element);\n",
              "          const docLink = document.createElement('div');\n",
              "          docLink.innerHTML = docLinkHtml;\n",
              "          element.appendChild(docLink);\n",
              "        }\n",
              "      </script>\n",
              "    </div>\n",
              "  </div>\n",
              "  "
            ]
          },
          "metadata": {},
          "execution_count": 5
        }
      ]
    },
    {
      "cell_type": "markdown",
      "metadata": {
        "id": "k0xsyJM1n04a"
      },
      "source": [
        "<!---reference: https://pandas.pydata.org/pandas-docs/stable/reference/api/pandas.DataFrame.to_sql.html\n",
        "-->"
      ]
    },
    {
      "cell_type": "markdown",
      "metadata": {
        "id": "Wu21qyQNF89k"
      },
      "source": [
        "## Create Database Tables\n",
        "\n",
        "The following creates a table call `wacc` in our database."
      ]
    },
    {
      "cell_type": "code",
      "metadata": {
        "id": "BvtPxdSBoUaq"
      },
      "source": [
        "wacc.to_sql('wacc', con=engine)"
      ],
      "execution_count": null,
      "outputs": []
    },
    {
      "cell_type": "markdown",
      "metadata": {
        "id": "2WezpxYfG8gz"
      },
      "source": [
        "## List Tables in the Database\n",
        "\n",
        "We can see the contents of our databse with:"
      ]
    },
    {
      "cell_type": "code",
      "metadata": {
        "id": "l-CthKMDHS6v",
        "colab": {
          "base_uri": "https://localhost:8080/"
        },
        "outputId": "2e3bf14b-23b8-4009-e0d6-89c5fc92eb37"
      },
      "source": [
        "engine.table_names()"
      ],
      "execution_count": null,
      "outputs": [
        {
          "output_type": "stream",
          "name": "stderr",
          "text": [
            "<ipython-input-7-d72bc75a6b62>:1: SADeprecationWarning: The Engine.table_names() method is deprecated and will be removed in a future release.  Please refer to Inspector.get_table_names(). (deprecated since: 1.4)\n",
            "  engine.table_names()\n"
          ]
        },
        {
          "output_type": "execute_result",
          "data": {
            "text/plain": [
              "['wacc']"
            ]
          },
          "metadata": {},
          "execution_count": 7
        }
      ]
    },
    {
      "cell_type": "markdown",
      "metadata": {
        "id": "oYNs05GNGBVf"
      },
      "source": [
        "## Query the Database\n",
        "\n",
        "We can now run `SELECT` queries on our one table database.  The following selects all columns (all is denoted by `*`) from the `wacc` table where each row return must have a `Beta` greater than 1.2 and a `Cost of Equity` less than 0.07."
      ]
    },
    {
      "cell_type": "markdown",
      "source": [
        "**EDIT** (3/1/2023):  The data has been updated and there are no longer any industries which has a Beta greater than 1.2 and Cost of Equity less than 0.7.  Can you think of why given the present macroeconomic environment?\n",
        "\n",
        "So below use Beta greater than 1 and Cost of Equity less than 0.12."
      ],
      "metadata": {
        "id": "yLNWIHpIprx3"
      }
    },
    {
      "cell_type": "code",
      "metadata": {
        "id": "2BihTNGDoY61",
        "colab": {
          "base_uri": "https://localhost:8080/",
          "height": 340
        },
        "outputId": "6ea61ee4-5488-47bf-fa19-4d9be2f04536"
      },
      "source": [
        "pd.DataFrame(engine.execute(\"SELECT * FROM wacc WHERE Beta > 1.2 AND `Cost of Equity` < 0.07\").fetchall())"
      ],
      "execution_count": null,
      "outputs": [
        {
          "output_type": "execute_result",
          "data": {
            "text/html": [
              "<div>\n",
              "<style scoped>\n",
              "    .dataframe tbody tr th:only-of-type {\n",
              "        vertical-align: middle;\n",
              "    }\n",
              "\n",
              "    .dataframe tbody tr th {\n",
              "        vertical-align: top;\n",
              "    }\n",
              "\n",
              "    .dataframe thead th {\n",
              "        text-align: right;\n",
              "    }\n",
              "</style>\n",
              "<table border=\"1\" class=\"dataframe\">\n",
              "  <thead>\n",
              "    <tr style=\"text-align: right;\">\n",
              "      <th></th>\n",
              "      <th>0</th>\n",
              "      <th>1</th>\n",
              "      <th>2</th>\n",
              "      <th>3</th>\n",
              "      <th>4</th>\n",
              "      <th>5</th>\n",
              "      <th>6</th>\n",
              "      <th>7</th>\n",
              "      <th>8</th>\n",
              "      <th>9</th>\n",
              "      <th>10</th>\n",
              "      <th>11</th>\n",
              "      <th>12</th>\n",
              "    </tr>\n",
              "  </thead>\n",
              "  <tbody>\n",
              "    <tr>\n",
              "      <th>0</th>\n",
              "      <td>4</td>\n",
              "      <td>Auto &amp; Truck</td>\n",
              "      <td>19</td>\n",
              "      <td>1.282826</td>\n",
              "      <td>0.069849</td>\n",
              "      <td>0.721159</td>\n",
              "      <td>0.452370</td>\n",
              "      <td>0.02998</td>\n",
              "      <td>0.078599</td>\n",
              "      <td>0.021885</td>\n",
              "      <td>0.278841</td>\n",
              "      <td>0.056475</td>\n",
              "      <td>0.103314</td>\n",
              "    </tr>\n",
              "    <tr>\n",
              "      <th>1</th>\n",
              "      <td>5</td>\n",
              "      <td>Auto Parts</td>\n",
              "      <td>52</td>\n",
              "      <td>1.203498</td>\n",
              "      <td>0.066105</td>\n",
              "      <td>0.804045</td>\n",
              "      <td>0.431649</td>\n",
              "      <td>0.02998</td>\n",
              "      <td>0.073538</td>\n",
              "      <td>0.021885</td>\n",
              "      <td>0.195955</td>\n",
              "      <td>0.057440</td>\n",
              "      <td>0.104322</td>\n",
              "    </tr>\n",
              "    <tr>\n",
              "      <th>2</th>\n",
              "      <td>42</td>\n",
              "      <td>Hospitals/Healthcare Facilities</td>\n",
              "      <td>32</td>\n",
              "      <td>1.283102</td>\n",
              "      <td>0.069862</td>\n",
              "      <td>0.501498</td>\n",
              "      <td>0.492114</td>\n",
              "      <td>0.02998</td>\n",
              "      <td>0.081600</td>\n",
              "      <td>0.021885</td>\n",
              "      <td>0.498502</td>\n",
              "      <td>0.045946</td>\n",
              "      <td>0.092318</td>\n",
              "    </tr>\n",
              "    <tr>\n",
              "      <th>3</th>\n",
              "      <td>53</td>\n",
              "      <td>Oil/Gas (Integrated)</td>\n",
              "      <td>3</td>\n",
              "      <td>1.260614</td>\n",
              "      <td>0.068801</td>\n",
              "      <td>0.693989</td>\n",
              "      <td>0.263884</td>\n",
              "      <td>0.02580</td>\n",
              "      <td>0.085425</td>\n",
              "      <td>0.018834</td>\n",
              "      <td>0.306011</td>\n",
              "      <td>0.053511</td>\n",
              "      <td>0.100218</td>\n",
              "    </tr>\n",
              "    <tr>\n",
              "      <th>4</th>\n",
              "      <td>56</td>\n",
              "      <td>Oilfield Svcs/Equip.</td>\n",
              "      <td>135</td>\n",
              "      <td>1.207736</td>\n",
              "      <td>0.066305</td>\n",
              "      <td>0.563579</td>\n",
              "      <td>0.502675</td>\n",
              "      <td>0.02998</td>\n",
              "      <td>0.011881</td>\n",
              "      <td>0.021885</td>\n",
              "      <td>0.436421</td>\n",
              "      <td>0.046919</td>\n",
              "      <td>0.093335</td>\n",
              "    </tr>\n",
              "    <tr>\n",
              "      <th>5</th>\n",
              "      <td>62</td>\n",
              "      <td>R.E.I.T.</td>\n",
              "      <td>238</td>\n",
              "      <td>1.205879</td>\n",
              "      <td>0.066217</td>\n",
              "      <td>0.565848</td>\n",
              "      <td>0.324047</td>\n",
              "      <td>0.02580</td>\n",
              "      <td>0.012648</td>\n",
              "      <td>0.018834</td>\n",
              "      <td>0.434152</td>\n",
              "      <td>0.045646</td>\n",
              "      <td>0.092005</td>\n",
              "    </tr>\n",
              "    <tr>\n",
              "      <th>6</th>\n",
              "      <td>75</td>\n",
              "      <td>Retail (Special Lines)</td>\n",
              "      <td>85</td>\n",
              "      <td>1.282003</td>\n",
              "      <td>0.069811</td>\n",
              "      <td>0.674496</td>\n",
              "      <td>0.490095</td>\n",
              "      <td>0.02998</td>\n",
              "      <td>0.080605</td>\n",
              "      <td>0.021885</td>\n",
              "      <td>0.325504</td>\n",
              "      <td>0.054211</td>\n",
              "      <td>0.100949</td>\n",
              "    </tr>\n",
              "  </tbody>\n",
              "</table>\n",
              "</div>"
            ],
            "text/plain": [
              "   0                                1    2   ...        10        11        12\n",
              "0   4                     Auto & Truck   19  ...  0.278841  0.056475  0.103314\n",
              "1   5                       Auto Parts   52  ...  0.195955  0.057440  0.104322\n",
              "2  42  Hospitals/Healthcare Facilities   32  ...  0.498502  0.045946  0.092318\n",
              "3  53             Oil/Gas (Integrated)    3  ...  0.306011  0.053511  0.100218\n",
              "4  56             Oilfield Svcs/Equip.  135  ...  0.436421  0.046919  0.093335\n",
              "5  62                         R.E.I.T.  238  ...  0.434152  0.045646  0.092005\n",
              "6  75           Retail (Special Lines)   85  ...  0.325504  0.054211  0.100949\n",
              "\n",
              "[7 rows x 13 columns]"
            ]
          },
          "metadata": {
            "tags": []
          },
          "execution_count": 6
        }
      ]
    },
    {
      "cell_type": "markdown",
      "metadata": {
        "id": "8niwiVNkTKU6"
      },
      "source": [
        "Of course if we had a Pandas `DataFrame` of the data, we could return these rows without the need for SQL.  The point here is the data is housed in a SQL database and not in Python.  So we are instructing the SQL database to filter on our requirements and then pass the result to Python/Pandas.\n",
        "\n",
        "You might think why bother, you can just import the whole table into Pandas and then filter it.  Often the table is very large, so this would be an extremely inefficient approach."
      ]
    },
    {
      "cell_type": "markdown",
      "metadata": {
        "id": "Yna5WOyMYvl3"
      },
      "source": [
        "We can select one column with:"
      ]
    },
    {
      "cell_type": "code",
      "metadata": {
        "colab": {
          "base_uri": "https://localhost:8080/",
          "height": 319
        },
        "id": "jxJKqkQMUXdj",
        "outputId": "b4687027-ec2f-4bdf-cbd0-cd019e81e56a"
      },
      "source": [
        "pd.DataFrame(engine.execute(\"SELECT `Cost of Debt` FROM wacc WHERE Beta > 1.2 AND `Cost of Equity` < 0.07\").fetchall())"
      ],
      "execution_count": null,
      "outputs": [
        {
          "output_type": "execute_result",
          "data": {
            "text/html": [
              "<div>\n",
              "<style scoped>\n",
              "    .dataframe tbody tr th:only-of-type {\n",
              "        vertical-align: middle;\n",
              "    }\n",
              "\n",
              "    .dataframe tbody tr th {\n",
              "        vertical-align: top;\n",
              "    }\n",
              "\n",
              "    .dataframe thead th {\n",
              "        text-align: right;\n",
              "    }\n",
              "</style>\n",
              "<table border=\"1\" class=\"dataframe\">\n",
              "  <thead>\n",
              "    <tr style=\"text-align: right;\">\n",
              "      <th></th>\n",
              "      <th>0</th>\n",
              "    </tr>\n",
              "  </thead>\n",
              "  <tbody>\n",
              "    <tr>\n",
              "      <th>0</th>\n",
              "      <td>0.02998</td>\n",
              "    </tr>\n",
              "    <tr>\n",
              "      <th>1</th>\n",
              "      <td>0.02998</td>\n",
              "    </tr>\n",
              "    <tr>\n",
              "      <th>2</th>\n",
              "      <td>0.02998</td>\n",
              "    </tr>\n",
              "    <tr>\n",
              "      <th>3</th>\n",
              "      <td>0.02580</td>\n",
              "    </tr>\n",
              "    <tr>\n",
              "      <th>4</th>\n",
              "      <td>0.02998</td>\n",
              "    </tr>\n",
              "    <tr>\n",
              "      <th>5</th>\n",
              "      <td>0.02580</td>\n",
              "    </tr>\n",
              "    <tr>\n",
              "      <th>6</th>\n",
              "      <td>0.02998</td>\n",
              "    </tr>\n",
              "  </tbody>\n",
              "</table>\n",
              "</div>"
            ],
            "text/plain": [
              "         0\n",
              "0  0.02998\n",
              "1  0.02998\n",
              "2  0.02998\n",
              "3  0.02580\n",
              "4  0.02998\n",
              "5  0.02580\n",
              "6  0.02998"
            ]
          },
          "metadata": {
            "tags": []
          },
          "execution_count": 7
        }
      ]
    },
    {
      "cell_type": "markdown",
      "metadata": {
        "id": "R2PUZd-GZCAW"
      },
      "source": [
        "Or multiple columns:"
      ]
    },
    {
      "cell_type": "code",
      "metadata": {
        "colab": {
          "base_uri": "https://localhost:8080/",
          "height": 319
        },
        "id": "Gd5AKutbY0px",
        "outputId": "b7eb0e89-f007-48fe-ff30-d55f1845433a"
      },
      "source": [
        "pd.DataFrame(engine.execute(\"SELECT `Tax Rate`,`Cost of Debt` FROM wacc WHERE Beta > 1.2 AND `Cost of Equity` < 0.07\").fetchall())"
      ],
      "execution_count": null,
      "outputs": [
        {
          "output_type": "execute_result",
          "data": {
            "text/html": [
              "<div>\n",
              "<style scoped>\n",
              "    .dataframe tbody tr th:only-of-type {\n",
              "        vertical-align: middle;\n",
              "    }\n",
              "\n",
              "    .dataframe tbody tr th {\n",
              "        vertical-align: top;\n",
              "    }\n",
              "\n",
              "    .dataframe thead th {\n",
              "        text-align: right;\n",
              "    }\n",
              "</style>\n",
              "<table border=\"1\" class=\"dataframe\">\n",
              "  <thead>\n",
              "    <tr style=\"text-align: right;\">\n",
              "      <th></th>\n",
              "      <th>0</th>\n",
              "      <th>1</th>\n",
              "    </tr>\n",
              "  </thead>\n",
              "  <tbody>\n",
              "    <tr>\n",
              "      <th>0</th>\n",
              "      <td>0.078599</td>\n",
              "      <td>0.02998</td>\n",
              "    </tr>\n",
              "    <tr>\n",
              "      <th>1</th>\n",
              "      <td>0.073538</td>\n",
              "      <td>0.02998</td>\n",
              "    </tr>\n",
              "    <tr>\n",
              "      <th>2</th>\n",
              "      <td>0.081600</td>\n",
              "      <td>0.02998</td>\n",
              "    </tr>\n",
              "    <tr>\n",
              "      <th>3</th>\n",
              "      <td>0.085425</td>\n",
              "      <td>0.02580</td>\n",
              "    </tr>\n",
              "    <tr>\n",
              "      <th>4</th>\n",
              "      <td>0.011881</td>\n",
              "      <td>0.02998</td>\n",
              "    </tr>\n",
              "    <tr>\n",
              "      <th>5</th>\n",
              "      <td>0.012648</td>\n",
              "      <td>0.02580</td>\n",
              "    </tr>\n",
              "    <tr>\n",
              "      <th>6</th>\n",
              "      <td>0.080605</td>\n",
              "      <td>0.02998</td>\n",
              "    </tr>\n",
              "  </tbody>\n",
              "</table>\n",
              "</div>"
            ],
            "text/plain": [
              "          0        1\n",
              "0  0.078599  0.02998\n",
              "1  0.073538  0.02998\n",
              "2  0.081600  0.02998\n",
              "3  0.085425  0.02580\n",
              "4  0.011881  0.02998\n",
              "5  0.012648  0.02580\n",
              "6  0.080605  0.02998"
            ]
          },
          "metadata": {
            "tags": []
          },
          "execution_count": 13
        }
      ]
    },
    {
      "cell_type": "markdown",
      "metadata": {
        "id": "yuMIIsteZung"
      },
      "source": [
        "We can see how many rows have been returned with:"
      ]
    },
    {
      "cell_type": "code",
      "metadata": {
        "colab": {
          "base_uri": "https://localhost:8080/",
          "height": 93
        },
        "id": "oBBTmywnUgC0",
        "outputId": "345f8ea3-9c86-4cdf-e9d6-3dfd80308986"
      },
      "source": [
        "pd.DataFrame(engine.execute(\"SELECT COUNT(*) FROM wacc WHERE Beta > 1.2 AND `Cost of Equity` < 0.07\").fetchall())"
      ],
      "execution_count": null,
      "outputs": [
        {
          "output_type": "execute_result",
          "data": {
            "text/html": [
              "<div>\n",
              "<style scoped>\n",
              "    .dataframe tbody tr th:only-of-type {\n",
              "        vertical-align: middle;\n",
              "    }\n",
              "\n",
              "    .dataframe tbody tr th {\n",
              "        vertical-align: top;\n",
              "    }\n",
              "\n",
              "    .dataframe thead th {\n",
              "        text-align: right;\n",
              "    }\n",
              "</style>\n",
              "<table border=\"1\" class=\"dataframe\">\n",
              "  <thead>\n",
              "    <tr style=\"text-align: right;\">\n",
              "      <th></th>\n",
              "      <th>0</th>\n",
              "    </tr>\n",
              "  </thead>\n",
              "  <tbody>\n",
              "    <tr>\n",
              "      <th>0</th>\n",
              "      <td>7</td>\n",
              "    </tr>\n",
              "  </tbody>\n",
              "</table>\n",
              "</div>"
            ],
            "text/plain": [
              "   0\n",
              "0  7"
            ]
          },
          "metadata": {
            "tags": []
          },
          "execution_count": 10
        }
      ]
    },
    {
      "cell_type": "markdown",
      "metadata": {
        "id": "5AlkUES4Z0OJ"
      },
      "source": [
        "Or calculate a column sum with:"
      ]
    },
    {
      "cell_type": "code",
      "metadata": {
        "colab": {
          "base_uri": "https://localhost:8080/",
          "height": 93
        },
        "id": "9lPwsFFdUpXz",
        "outputId": "c1d192b4-fb7d-4bfd-aba5-0afec84ed88b"
      },
      "source": [
        "pd.DataFrame(engine.execute(\"SELECT SUM(`Cost of Debt`) FROM wacc WHERE Beta > 1.2 AND `Cost of Equity` < 0.07\").fetchall())"
      ],
      "execution_count": null,
      "outputs": [
        {
          "output_type": "execute_result",
          "data": {
            "text/html": [
              "<div>\n",
              "<style scoped>\n",
              "    .dataframe tbody tr th:only-of-type {\n",
              "        vertical-align: middle;\n",
              "    }\n",
              "\n",
              "    .dataframe tbody tr th {\n",
              "        vertical-align: top;\n",
              "    }\n",
              "\n",
              "    .dataframe thead th {\n",
              "        text-align: right;\n",
              "    }\n",
              "</style>\n",
              "<table border=\"1\" class=\"dataframe\">\n",
              "  <thead>\n",
              "    <tr style=\"text-align: right;\">\n",
              "      <th></th>\n",
              "      <th>0</th>\n",
              "    </tr>\n",
              "  </thead>\n",
              "  <tbody>\n",
              "    <tr>\n",
              "      <th>0</th>\n",
              "      <td>0.2015</td>\n",
              "    </tr>\n",
              "  </tbody>\n",
              "</table>\n",
              "</div>"
            ],
            "text/plain": [
              "        0\n",
              "0  0.2015"
            ]
          },
          "metadata": {
            "tags": []
          },
          "execution_count": 11
        }
      ]
    },
    {
      "cell_type": "markdown",
      "metadata": {
        "id": "inPAFnB8Z4j5"
      },
      "source": [
        "Other metrics, such as the average, cal be calculated similarly (`avg()`)."
      ]
    },
    {
      "cell_type": "markdown",
      "metadata": {
        "id": "Jc4oBCkKKF6W"
      },
      "source": [
        "## More Tables\n",
        "\n",
        "Let's add more tables to our database:"
      ]
    },
    {
      "cell_type": "code",
      "metadata": {
        "id": "z6DFg4vSKoXw"
      },
      "source": [
        "tax_rate_url = \"http://www.stern.nyu.edu/~adamodar/pc/datasets/taxrate.xls\"  # skip 8 rows, data on sheet 2\n",
        "debt_url = \"http://www.stern.nyu.edu/~adamodar/pc/datasets/dbtfund.xls\"  # skip 7 rows, data on sheet 2"
      ],
      "execution_count": null,
      "outputs": []
    },
    {
      "cell_type": "code",
      "metadata": {
        "id": "A3JSVMaFQH2z"
      },
      "source": [
        "tax = pd.read_excel(tax_rate_url, skiprows=8, sheet_name=1)\n",
        "debt = pd.read_excel(debt_url, skiprows=7, sheet_name=1)"
      ],
      "execution_count": null,
      "outputs": []
    },
    {
      "cell_type": "code",
      "metadata": {
        "id": "jdgZFh1MwTNu"
      },
      "source": [
        "tax.columns"
      ],
      "execution_count": null,
      "outputs": []
    },
    {
      "cell_type": "code",
      "metadata": {
        "id": "PLZdJnARwZCE"
      },
      "source": [
        "debt.columns"
      ],
      "execution_count": null,
      "outputs": []
    },
    {
      "cell_type": "code",
      "metadata": {
        "id": "EmJ8KKpJQYZm"
      },
      "source": [
        "tax.to_sql('tax', con=engine)\n",
        "debt.to_sql('debt', con=engine)"
      ],
      "execution_count": null,
      "outputs": []
    },
    {
      "cell_type": "code",
      "metadata": {
        "id": "JDXumQ57kxQA"
      },
      "source": [
        "engine.table_names()"
      ],
      "execution_count": null,
      "outputs": []
    },
    {
      "cell_type": "markdown",
      "metadata": {
        "id": "DUbd-eDkwg03"
      },
      "source": [
        "## Merging Tables\n",
        "\n",
        "The following query merges all tables."
      ]
    },
    {
      "cell_type": "code",
      "metadata": {
        "id": "aeu-1zGWoJnK"
      },
      "source": [
        "join_query = \"SELECT * FROM wacc LEFT OUTER JOIN tax ON tax.`Industry Name`=wacc.`Industry Name` LEFT OUTER JOIN debt ON debt.`Industry Name`=tax.`Industry Name`\""
      ],
      "execution_count": null,
      "outputs": []
    },
    {
      "cell_type": "code",
      "metadata": {
        "id": "qXVJLvN0osRZ"
      },
      "source": [
        "pd.DataFrame(engine.execute(join_query).fetchall())"
      ],
      "execution_count": null,
      "outputs": []
    },
    {
      "cell_type": "markdown",
      "metadata": {
        "id": "mQ0VzGD2eGEX"
      },
      "source": [
        "# Other Databases\n",
        "\n",
        "Above we have created and queried a `SQLite` database, however Python can connect to many other popular relational databases such as `PostgreSQL`, etc.  \n",
        "\n",
        "Python can also interact with `NoSQL` and `key-value` type databases such as `MongoDB` and `Redis` among others."
      ]
    },
    {
      "cell_type": "markdown",
      "metadata": {
        "id": "BZ6W0ASEXJtO"
      },
      "source": [
        "# Exercise\n",
        "\n",
        "Select only the `Tax Rate` column from the wacc table however keep the contraints where each row return must have a `Beta` greater than 1.0 and a `Cost of Equity` less than 0.12.  Have your SELECT query calculate and return the average `Tax Rate`."
      ]
    },
    {
      "cell_type": "markdown",
      "metadata": {
        "id": "xpEU7ZwIYT3q"
      },
      "source": [
        "<!---## Answer-->\n"
      ]
    },
    {
      "cell_type": "markdown",
      "metadata": {
        "id": "I_uF3cmhYc6I"
      },
      "source": [
        "<!---The average Tax Rate is 6.0614%-->"
      ]
    },
    {
      "cell_type": "markdown",
      "metadata": {
        "id": "cwZRSRUoK0h-"
      },
      "source": [
        "<!---pd.DataFrame(engine.execute(\"SELECT `Tax Rate` FROM wacc WHERE Beta > 1.2 AND `Cost of Equity` < 0.07\").fetchall()).mean()-->"
      ]
    }
  ]
}