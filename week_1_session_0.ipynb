{
  "nbformat": 4,
  "nbformat_minor": 0,
  "metadata": {
    "colab": {
      "provenance": [],
      "authorship_tag": "ABX9TyNe6u+uxmESEOy4p8G/bOY+",
      "include_colab_link": true
    },
    "kernelspec": {
      "name": "python3",
      "display_name": "Python 3"
    }
  },
  "cells": [
    {
      "cell_type": "markdown",
      "metadata": {
        "id": "view-in-github",
        "colab_type": "text"
      },
      "source": [
        "<a href=\"https://colab.research.google.com/github/Matt-Brigida/FIN_420_Financial_Analytics_Colab/blob/master/week_1_session_0.ipynb\" target=\"_parent\"><img src=\"https://colab.research.google.com/assets/colab-badge.svg\" alt=\"Open In Colab\"/></a>"
      ]
    },
    {
      "cell_type": "markdown",
      "metadata": {
        "id": "_CnAglOyulot"
      },
      "source": [
        "# Week 1 Session 0"
      ]
    },
    {
      "cell_type": "markdown",
      "metadata": {
        "id": "YTA9yX83MPG6"
      },
      "source": [
        "# Do Higher Levels of Institutional Ownership Increase Management Effectiveness?\n",
        "\n",
        "Imagine you arrive at work on a Monday morning and this is the question your boss asks you.  Theory would prompt you to answer 'yes', however you'll want some data to back up your answer.  In this session we'll gather some relevant data and provide an answer."
      ]
    },
    {
      "cell_type": "markdown",
      "metadata": {
        "id": "HMLOrR09kNeX"
      },
      "source": [
        "Load the Pandas library."
      ]
    },
    {
      "cell_type": "code",
      "metadata": {
        "id": "SFfLhrAccCX9"
      },
      "source": [
        "import pandas as pd"
      ],
      "execution_count": null,
      "outputs": []
    },
    {
      "cell_type": "markdown",
      "metadata": {
        "id": "k1WEydy2gPFJ"
      },
      "source": [
        "### Get institutional ownership data."
      ]
    },
    {
      "cell_type": "markdown",
      "metadata": {
        "id": "Gd8Dc9J_kU5v"
      },
      "source": [
        "The URL of an Excel spreadsheet which contains the amount of Institutional and Insider ownership by industry."
      ]
    },
    {
      "cell_type": "code",
      "metadata": {
        "id": "3jydsNjYeEH5"
      },
      "source": [
        "inst_own_url = \"http://www.stern.nyu.edu/~adamodar/pc/datasets/inshold.xls\""
      ],
      "execution_count": null,
      "outputs": []
    },
    {
      "cell_type": "markdown",
      "source": [
        "Below we are going to import the data from the url using the `read_excel` method.  This attempts to extablish a SSL connection, and as of writing this the required certificates were not on the server.  The following code tells python to ignore the lack of valid certs.  It is not the safest approach, though this is the benefit of working on a notebook in the cloud."
      ],
      "metadata": {
        "id": "mJBqMKF7pnhs"
      }
    },
    {
      "cell_type": "code",
      "source": [
        "import ssl\n",
        "ssl._create_default_https_context = ssl._create_unverified_context"
      ],
      "metadata": {
        "id": "QQ6wsHvJrVLf"
      },
      "execution_count": null,
      "outputs": []
    },
    {
      "cell_type": "markdown",
      "metadata": {
        "id": "3sByMNH3gv-p"
      },
      "source": [
        "Note the data starts on row 8, so we skip the first 7 rows when creating the Pandas `DataFrame`.  Also, the data is in sheet 2 (which in Python is 1)."
      ]
    },
    {
      "cell_type": "code",
      "metadata": {
        "id": "CjOTPe4sgN2A"
      },
      "source": [
        "inst_own = pd.read_excel(inst_own_url, skiprows = 7, sheet_name=1)"
      ],
      "execution_count": null,
      "outputs": []
    },
    {
      "cell_type": "markdown",
      "metadata": {
        "id": "2PuRRXCN6cDX"
      },
      "source": [
        "### Inspecting Data"
      ]
    },
    {
      "cell_type": "markdown",
      "metadata": {
        "id": "hm91_KL5hEy2"
      },
      "source": [
        "Often the first step will be to inspect the data.  We want to pay particular attention to missing data and the type of each variable (column).  We can first view the data with:"
      ]
    },
    {
      "cell_type": "code",
      "metadata": {
        "id": "b1kK4K-ghMBW",
        "colab": {
          "base_uri": "https://localhost:8080/",
          "height": 502
        },
        "outputId": "5ef6ca7f-e910-4db8-bd86-b30c43835f34"
      },
      "source": [
        "inst_own"
      ],
      "execution_count": null,
      "outputs": [
        {
          "output_type": "execute_result",
          "data": {
            "text/plain": [
              "                        Industry Name  Number of Firms  CEO Holding  \\\n",
              "0                         Advertising               58     0.079387   \n",
              "1                   Aerospace/Defense               77     0.036413   \n",
              "2                       Air Transport               21     0.025401   \n",
              "3                             Apparel               39     0.080286   \n",
              "4                        Auto & Truck               31     0.035413   \n",
              "..                                ...              ...          ...   \n",
              "91                           Trucking               35     0.051777   \n",
              "92                  Utility (General)               15     0.001094   \n",
              "93                    Utility (Water)               16     0.027208   \n",
              "94                       Total Market             7165     0.050500   \n",
              "95  Total Market (without financials)             5649     0.046167   \n",
              "\n",
              "    Corporate Holdings  Institutional Holdings  Insider Holdings  \n",
              "0             0.156317                0.381401          0.187405  \n",
              "1             0.242979                0.487936          0.113848  \n",
              "2             0.297433                0.507165          0.079854  \n",
              "3             0.055278                0.518454          0.170783  \n",
              "4             0.218659                0.288059          0.136488  \n",
              "..                 ...                     ...               ...  \n",
              "91            0.149969                0.542969          0.184851  \n",
              "92            0.000000                0.832900          0.004574  \n",
              "93            0.442967                0.539700          0.090886  \n",
              "94            0.143281                0.470277          0.126370  \n",
              "95            0.140700                0.471099          0.127974  \n",
              "\n",
              "[96 rows x 6 columns]"
            ],
            "text/html": [
              "\n",
              "  <div id=\"df-2dec98cb-4ca3-4e72-a7e5-d239ef52e0dd\">\n",
              "    <div class=\"colab-df-container\">\n",
              "      <div>\n",
              "<style scoped>\n",
              "    .dataframe tbody tr th:only-of-type {\n",
              "        vertical-align: middle;\n",
              "    }\n",
              "\n",
              "    .dataframe tbody tr th {\n",
              "        vertical-align: top;\n",
              "    }\n",
              "\n",
              "    .dataframe thead th {\n",
              "        text-align: right;\n",
              "    }\n",
              "</style>\n",
              "<table border=\"1\" class=\"dataframe\">\n",
              "  <thead>\n",
              "    <tr style=\"text-align: right;\">\n",
              "      <th></th>\n",
              "      <th>Industry Name</th>\n",
              "      <th>Number of Firms</th>\n",
              "      <th>CEO Holding</th>\n",
              "      <th>Corporate Holdings</th>\n",
              "      <th>Institutional Holdings</th>\n",
              "      <th>Insider Holdings</th>\n",
              "    </tr>\n",
              "  </thead>\n",
              "  <tbody>\n",
              "    <tr>\n",
              "      <th>0</th>\n",
              "      <td>Advertising</td>\n",
              "      <td>58</td>\n",
              "      <td>0.079387</td>\n",
              "      <td>0.156317</td>\n",
              "      <td>0.381401</td>\n",
              "      <td>0.187405</td>\n",
              "    </tr>\n",
              "    <tr>\n",
              "      <th>1</th>\n",
              "      <td>Aerospace/Defense</td>\n",
              "      <td>77</td>\n",
              "      <td>0.036413</td>\n",
              "      <td>0.242979</td>\n",
              "      <td>0.487936</td>\n",
              "      <td>0.113848</td>\n",
              "    </tr>\n",
              "    <tr>\n",
              "      <th>2</th>\n",
              "      <td>Air Transport</td>\n",
              "      <td>21</td>\n",
              "      <td>0.025401</td>\n",
              "      <td>0.297433</td>\n",
              "      <td>0.507165</td>\n",
              "      <td>0.079854</td>\n",
              "    </tr>\n",
              "    <tr>\n",
              "      <th>3</th>\n",
              "      <td>Apparel</td>\n",
              "      <td>39</td>\n",
              "      <td>0.080286</td>\n",
              "      <td>0.055278</td>\n",
              "      <td>0.518454</td>\n",
              "      <td>0.170783</td>\n",
              "    </tr>\n",
              "    <tr>\n",
              "      <th>4</th>\n",
              "      <td>Auto &amp; Truck</td>\n",
              "      <td>31</td>\n",
              "      <td>0.035413</td>\n",
              "      <td>0.218659</td>\n",
              "      <td>0.288059</td>\n",
              "      <td>0.136488</td>\n",
              "    </tr>\n",
              "    <tr>\n",
              "      <th>...</th>\n",
              "      <td>...</td>\n",
              "      <td>...</td>\n",
              "      <td>...</td>\n",
              "      <td>...</td>\n",
              "      <td>...</td>\n",
              "      <td>...</td>\n",
              "    </tr>\n",
              "    <tr>\n",
              "      <th>91</th>\n",
              "      <td>Trucking</td>\n",
              "      <td>35</td>\n",
              "      <td>0.051777</td>\n",
              "      <td>0.149969</td>\n",
              "      <td>0.542969</td>\n",
              "      <td>0.184851</td>\n",
              "    </tr>\n",
              "    <tr>\n",
              "      <th>92</th>\n",
              "      <td>Utility (General)</td>\n",
              "      <td>15</td>\n",
              "      <td>0.001094</td>\n",
              "      <td>0.000000</td>\n",
              "      <td>0.832900</td>\n",
              "      <td>0.004574</td>\n",
              "    </tr>\n",
              "    <tr>\n",
              "      <th>93</th>\n",
              "      <td>Utility (Water)</td>\n",
              "      <td>16</td>\n",
              "      <td>0.027208</td>\n",
              "      <td>0.442967</td>\n",
              "      <td>0.539700</td>\n",
              "      <td>0.090886</td>\n",
              "    </tr>\n",
              "    <tr>\n",
              "      <th>94</th>\n",
              "      <td>Total Market</td>\n",
              "      <td>7165</td>\n",
              "      <td>0.050500</td>\n",
              "      <td>0.143281</td>\n",
              "      <td>0.470277</td>\n",
              "      <td>0.126370</td>\n",
              "    </tr>\n",
              "    <tr>\n",
              "      <th>95</th>\n",
              "      <td>Total Market (without financials)</td>\n",
              "      <td>5649</td>\n",
              "      <td>0.046167</td>\n",
              "      <td>0.140700</td>\n",
              "      <td>0.471099</td>\n",
              "      <td>0.127974</td>\n",
              "    </tr>\n",
              "  </tbody>\n",
              "</table>\n",
              "<p>96 rows × 6 columns</p>\n",
              "</div>\n",
              "      <button class=\"colab-df-convert\" onclick=\"convertToInteractive('df-2dec98cb-4ca3-4e72-a7e5-d239ef52e0dd')\"\n",
              "              title=\"Convert this dataframe to an interactive table.\"\n",
              "              style=\"display:none;\">\n",
              "        \n",
              "  <svg xmlns=\"http://www.w3.org/2000/svg\" height=\"24px\"viewBox=\"0 0 24 24\"\n",
              "       width=\"24px\">\n",
              "    <path d=\"M0 0h24v24H0V0z\" fill=\"none\"/>\n",
              "    <path d=\"M18.56 5.44l.94 2.06.94-2.06 2.06-.94-2.06-.94-.94-2.06-.94 2.06-2.06.94zm-11 1L8.5 8.5l.94-2.06 2.06-.94-2.06-.94L8.5 2.5l-.94 2.06-2.06.94zm10 10l.94 2.06.94-2.06 2.06-.94-2.06-.94-.94-2.06-.94 2.06-2.06.94z\"/><path d=\"M17.41 7.96l-1.37-1.37c-.4-.4-.92-.59-1.43-.59-.52 0-1.04.2-1.43.59L10.3 9.45l-7.72 7.72c-.78.78-.78 2.05 0 2.83L4 21.41c.39.39.9.59 1.41.59.51 0 1.02-.2 1.41-.59l7.78-7.78 2.81-2.81c.8-.78.8-2.07 0-2.86zM5.41 20L4 18.59l7.72-7.72 1.47 1.35L5.41 20z\"/>\n",
              "  </svg>\n",
              "      </button>\n",
              "      \n",
              "  <style>\n",
              "    .colab-df-container {\n",
              "      display:flex;\n",
              "      flex-wrap:wrap;\n",
              "      gap: 12px;\n",
              "    }\n",
              "\n",
              "    .colab-df-convert {\n",
              "      background-color: #E8F0FE;\n",
              "      border: none;\n",
              "      border-radius: 50%;\n",
              "      cursor: pointer;\n",
              "      display: none;\n",
              "      fill: #1967D2;\n",
              "      height: 32px;\n",
              "      padding: 0 0 0 0;\n",
              "      width: 32px;\n",
              "    }\n",
              "\n",
              "    .colab-df-convert:hover {\n",
              "      background-color: #E2EBFA;\n",
              "      box-shadow: 0px 1px 2px rgba(60, 64, 67, 0.3), 0px 1px 3px 1px rgba(60, 64, 67, 0.15);\n",
              "      fill: #174EA6;\n",
              "    }\n",
              "\n",
              "    [theme=dark] .colab-df-convert {\n",
              "      background-color: #3B4455;\n",
              "      fill: #D2E3FC;\n",
              "    }\n",
              "\n",
              "    [theme=dark] .colab-df-convert:hover {\n",
              "      background-color: #434B5C;\n",
              "      box-shadow: 0px 1px 3px 1px rgba(0, 0, 0, 0.15);\n",
              "      filter: drop-shadow(0px 1px 2px rgba(0, 0, 0, 0.3));\n",
              "      fill: #FFFFFF;\n",
              "    }\n",
              "  </style>\n",
              "\n",
              "      <script>\n",
              "        const buttonEl =\n",
              "          document.querySelector('#df-2dec98cb-4ca3-4e72-a7e5-d239ef52e0dd button.colab-df-convert');\n",
              "        buttonEl.style.display =\n",
              "          google.colab.kernel.accessAllowed ? 'block' : 'none';\n",
              "\n",
              "        async function convertToInteractive(key) {\n",
              "          const element = document.querySelector('#df-2dec98cb-4ca3-4e72-a7e5-d239ef52e0dd');\n",
              "          const dataTable =\n",
              "            await google.colab.kernel.invokeFunction('convertToInteractive',\n",
              "                                                     [key], {});\n",
              "          if (!dataTable) return;\n",
              "\n",
              "          const docLinkHtml = 'Like what you see? Visit the ' +\n",
              "            '<a target=\"_blank\" href=https://colab.research.google.com/notebooks/data_table.ipynb>data table notebook</a>'\n",
              "            + ' to learn more about interactive tables.';\n",
              "          element.innerHTML = '';\n",
              "          dataTable['output_type'] = 'display_data';\n",
              "          await google.colab.output.renderOutput(dataTable, element);\n",
              "          const docLink = document.createElement('div');\n",
              "          docLink.innerHTML = docLinkHtml;\n",
              "          element.appendChild(docLink);\n",
              "        }\n",
              "      </script>\n",
              "    </div>\n",
              "  </div>\n",
              "  "
            ]
          },
          "metadata": {},
          "execution_count": 5
        }
      ]
    },
    {
      "cell_type": "markdown",
      "metadata": {
        "id": "cbeYo80BibG2"
      },
      "source": [
        "EDIT:  There is no longer a blank column, so no need to run the next line of code.  And it looks like we have a blank column (Unnamed: 5).  We can remove it with:"
      ]
    },
    {
      "cell_type": "code",
      "metadata": {
        "id": "GiEzyN8hikNb"
      },
      "source": [
        "inst_own.drop(columns=[\"Unnamed: 5\"], inplace=True)\n",
        "inst_own"
      ],
      "execution_count": null,
      "outputs": []
    },
    {
      "cell_type": "markdown",
      "metadata": {
        "id": "B3hDz99W6YtV"
      },
      "source": [
        "Now let's see how many rows and columns we have (the shape of our data frame):"
      ]
    },
    {
      "cell_type": "code",
      "metadata": {
        "id": "_2sVkKFPFhl-",
        "colab": {
          "base_uri": "https://localhost:8080/"
        },
        "outputId": "641dc3e9-81ba-4d0c-d1d4-79431f83aca9"
      },
      "source": [
        "inst_own.shape"
      ],
      "execution_count": null,
      "outputs": [
        {
          "output_type": "execute_result",
          "data": {
            "text/plain": [
              "(96, 6)"
            ]
          },
          "metadata": {},
          "execution_count": 7
        }
      ]
    },
    {
      "cell_type": "markdown",
      "metadata": {
        "id": "sbAw9mN8t_t9"
      },
      "source": [
        "Or just get the rows:"
      ]
    },
    {
      "cell_type": "code",
      "metadata": {
        "colab": {
          "base_uri": "https://localhost:8080/"
        },
        "id": "mqyohlhBuCVz",
        "outputId": "0d1dbccf-8341-43dd-825f-9f2ff42ca06b"
      },
      "source": [
        "inst_own.shape[0]"
      ],
      "execution_count": null,
      "outputs": [
        {
          "output_type": "execute_result",
          "data": {
            "text/plain": [
              "96"
            ]
          },
          "metadata": {},
          "execution_count": 8
        }
      ]
    },
    {
      "cell_type": "markdown",
      "metadata": {
        "id": "E0zQQyunW4v8"
      },
      "source": [
        "And the type of each column:"
      ]
    },
    {
      "cell_type": "code",
      "metadata": {
        "id": "nAQxRyvhW73X",
        "colab": {
          "base_uri": "https://localhost:8080/"
        },
        "outputId": "44a17646-d6ff-4248-9479-a25c7b6264b5"
      },
      "source": [
        "inst_own.dtypes"
      ],
      "execution_count": null,
      "outputs": [
        {
          "output_type": "execute_result",
          "data": {
            "text/plain": [
              "Industry Name              object\n",
              "Number of Firms             int64\n",
              "CEO Holding               float64\n",
              "Corporate Holdings        float64\n",
              "Institutional Holdings    float64\n",
              "Insider Holdings          float64\n",
              "dtype: object"
            ]
          },
          "metadata": {},
          "execution_count": 9
        }
      ]
    },
    {
      "cell_type": "markdown",
      "metadata": {
        "id": "sKeVwMVwqO6d"
      },
      "source": [
        "Or we can also use `info()`.  This prints a collection of useful information about a `DataFrame`."
      ]
    },
    {
      "cell_type": "code",
      "metadata": {
        "colab": {
          "base_uri": "https://localhost:8080/"
        },
        "id": "GRXvIp-fqOck",
        "outputId": "5c21b408-62ea-4ab2-805a-301a838d0d43"
      },
      "source": [
        "inst_own.info()"
      ],
      "execution_count": null,
      "outputs": [
        {
          "output_type": "stream",
          "name": "stdout",
          "text": [
            "<class 'pandas.core.frame.DataFrame'>\n",
            "RangeIndex: 96 entries, 0 to 95\n",
            "Data columns (total 6 columns):\n",
            " #   Column                  Non-Null Count  Dtype  \n",
            "---  ------                  --------------  -----  \n",
            " 0   Industry Name           96 non-null     object \n",
            " 1   Number of Firms         96 non-null     int64  \n",
            " 2   CEO Holding             96 non-null     float64\n",
            " 3   Corporate Holdings      96 non-null     float64\n",
            " 4   Institutional Holdings  96 non-null     float64\n",
            " 5   Insider Holdings        96 non-null     float64\n",
            "dtypes: float64(4), int64(1), object(1)\n",
            "memory usage: 4.6+ KB\n"
          ]
        }
      ]
    },
    {
      "cell_type": "markdown",
      "metadata": {
        "id": "gB5gbF8_YBin"
      },
      "source": [
        "And so the Number of Firms is an integer type. With the remaining columns being floats (numbers with decimal portions).  The `Object` for Industry Name in Pandas means it is a string. These columns have been imported correctly.  "
      ]
    },
    {
      "cell_type": "markdown",
      "metadata": {
        "id": "CPZMMlmo7T5X"
      },
      "source": [
        "A common problem when importing numeric column, particularly in large data sets, is there may be a character in one cell.  In this case the whole column may be imported as strings (\"123\" instead of 123)."
      ]
    },
    {
      "cell_type": "markdown",
      "metadata": {
        "id": "1eIRsJtRly1j"
      },
      "source": [
        "### Example: Importing Data with Error"
      ]
    },
    {
      "cell_type": "code",
      "metadata": {
        "id": "LNk7L5xGl5xj"
      },
      "source": [
        "inst_own_with_error = pd.read_excel(\"https://github.com/FinancialMarkets/industry_instown_with_data_error_to_clean/blob/master/which_column_has_bad_data.xls?raw=true\", skiprows = 7)\n",
        "inst_own_with_error.drop(columns=[\"Unnamed: 5\"], inplace=True)"
      ],
      "execution_count": null,
      "outputs": []
    },
    {
      "cell_type": "code",
      "metadata": {
        "id": "Wdffx2lWmCeW",
        "colab": {
          "base_uri": "https://localhost:8080/"
        },
        "outputId": "0252f08f-8ffe-44f3-fe95-2e1638b3c51a"
      },
      "source": [
        "inst_own_with_error.dtypes"
      ],
      "execution_count": null,
      "outputs": [
        {
          "output_type": "execute_result",
          "data": {
            "text/plain": [
              "Industry Name              object\n",
              "Number of Firms             int64\n",
              "CEO Holding               float64\n",
              "Institutional Holdings     object\n",
              "Insider Holdings          float64\n",
              "dtype: object"
            ]
          },
          "metadata": {},
          "execution_count": 12
        }
      ]
    },
    {
      "cell_type": "code",
      "metadata": {
        "id": "qWaiOUoE-xjl"
      },
      "source": [
        "inst_own_with_error"
      ],
      "execution_count": null,
      "outputs": []
    },
    {
      "cell_type": "markdown",
      "metadata": {
        "id": "2UNOons5nJNl"
      },
      "source": [
        "Now we see `Institutional Holdings` is a string, and not a number.  Let's take a look and try to figure out where the error is:"
      ]
    },
    {
      "cell_type": "code",
      "metadata": {
        "id": "onY8PJmIncUF"
      },
      "source": [
        "pd.set_option('display.max_rows', 1000)\n",
        "inst_own_with_error[\"Institutional Holdings\"]"
      ],
      "execution_count": null,
      "outputs": []
    },
    {
      "cell_type": "markdown",
      "metadata": {
        "id": "6K9-JrTT3_bd"
      },
      "source": [
        "We see in row 25 there is a letter `g` in the number.  We have two choices at this point, we can (1) remove the row, or (2) if we are sure the number is otherwise correct we can remove the `g`."
      ]
    },
    {
      "cell_type": "code",
      "metadata": {
        "colab": {
          "base_uri": "https://localhost:8080/"
        },
        "id": "h9O20GHFeXkf",
        "outputId": "c272ab25-3b56-4997-9a90-2c9fe5e0a011"
      },
      "source": [
        "inst_own_with_error.index"
      ],
      "execution_count": null,
      "outputs": [
        {
          "output_type": "execute_result",
          "data": {
            "text/plain": [
              "RangeIndex(start=0, stop=96, step=1)"
            ]
          },
          "metadata": {
            "tags": []
          },
          "execution_count": 12
        }
      ]
    },
    {
      "cell_type": "markdown",
      "metadata": {
        "id": "k66-dYDRcUrj"
      },
      "source": [
        "#### Drop a Row\n",
        "\n",
        "We can drop a row with the following.  Note the `inplace=True` is commented.  We want the error to stay in the DataFrame for the second posssible solution.  "
      ]
    },
    {
      "cell_type": "code",
      "metadata": {
        "id": "LuumMZPReIu6"
      },
      "source": [
        "inst_own_with_error.drop(axis=0, index=25) #, inplace=True)"
      ],
      "execution_count": null,
      "outputs": []
    },
    {
      "cell_type": "code",
      "metadata": {
        "colab": {
          "base_uri": "https://localhost:8080/"
        },
        "id": "cZWUhknY_fF-",
        "outputId": "37b20302-733f-4ddf-d8e1-5203827c953d"
      },
      "source": [
        "inst_own_with_error.dtypes"
      ],
      "execution_count": null,
      "outputs": [
        {
          "output_type": "execute_result",
          "data": {
            "text/plain": [
              "Industry Name              object\n",
              "Number of Firms             int64\n",
              "CEO Holding               float64\n",
              "Institutional Holdings     object\n",
              "Insider Holdings          float64\n",
              "dtype: object"
            ]
          },
          "metadata": {
            "tags": []
          },
          "execution_count": 16
        }
      ]
    },
    {
      "cell_type": "markdown",
      "metadata": {
        "id": "FWYv-ASmi4Da"
      },
      "source": [
        "#### Changing the Data in Row 25 of Institutional Holdings"
      ]
    },
    {
      "cell_type": "code",
      "metadata": {
        "id": "y7oSslVQY3Aw",
        "colab": {
          "base_uri": "https://localhost:8080/"
        },
        "outputId": "a6aebbe4-3c24-4c6e-b301-fea0da214f9d"
      },
      "source": [
        "inst_own_with_error[\"Institutional Holdings\"].loc[25] = 0.539263\n",
        "#inst_own_with_error[\"Institutional Holdings\"].loc[25]"
      ],
      "execution_count": null,
      "outputs": [
        {
          "output_type": "stream",
          "text": [
            "/usr/local/lib/python3.7/dist-packages/pandas/core/indexing.py:670: SettingWithCopyWarning: \n",
            "A value is trying to be set on a copy of a slice from a DataFrame\n",
            "\n",
            "See the caveats in the documentation: https://pandas.pydata.org/pandas-docs/stable/user_guide/indexing.html#returning-a-view-versus-a-copy\n",
            "  iloc._setitem_with_indexer(indexer, value)\n"
          ],
          "name": "stderr"
        }
      ]
    },
    {
      "cell_type": "code",
      "metadata": {
        "id": "vIBy7gUufHqd"
      },
      "source": [
        "inst_own_with_error[\"Institutional Holdings\"] = pd.to_numeric(inst_own_with_error[\"Institutional Holdings\"])"
      ],
      "execution_count": null,
      "outputs": []
    },
    {
      "cell_type": "markdown",
      "metadata": {
        "id": "_YzM9owYcL9a"
      },
      "source": [
        "And we see below Institutional Holdings is a float."
      ]
    },
    {
      "cell_type": "code",
      "metadata": {
        "id": "rJwPYD-javSR",
        "colab": {
          "base_uri": "https://localhost:8080/"
        },
        "outputId": "b930241f-68d8-43b5-e27b-4831cb47b573"
      },
      "source": [
        "inst_own_with_error.dtypes"
      ],
      "execution_count": null,
      "outputs": [
        {
          "output_type": "execute_result",
          "data": {
            "text/plain": [
              "Industry Name              object\n",
              "Number of Firms             int64\n",
              "CEO Holding               float64\n",
              "Institutional Holdings    float64\n",
              "Insider Holdings          float64\n",
              "dtype: object"
            ]
          },
          "metadata": {
            "tags": []
          },
          "execution_count": 20
        }
      ]
    },
    {
      "cell_type": "markdown",
      "metadata": {
        "id": "gJaaveDKpASt"
      },
      "source": [
        "### Selecting Columns"
      ]
    },
    {
      "cell_type": "code",
      "metadata": {
        "id": "MGMlIPWOo_W9",
        "colab": {
          "base_uri": "https://localhost:8080/"
        },
        "outputId": "f0fdcf52-2dcc-4462-c537-24c35c282bcd"
      },
      "source": [
        "pd.set_option('display.max_rows', 10)\n",
        "inst_own[\"Industry Name\"]"
      ],
      "execution_count": null,
      "outputs": [
        {
          "output_type": "execute_result",
          "data": {
            "text/plain": [
              "0                           Advertising\n",
              "1                     Aerospace/Defense\n",
              "2                         Air Transport\n",
              "3                               Apparel\n",
              "4                          Auto & Truck\n",
              "                    ...                \n",
              "91                             Trucking\n",
              "92                    Utility (General)\n",
              "93                      Utility (Water)\n",
              "94                         Total Market\n",
              "95    Total Market (without financials)\n",
              "Name: Industry Name, Length: 96, dtype: object"
            ]
          },
          "metadata": {
            "tags": []
          },
          "execution_count": 21
        }
      ]
    },
    {
      "cell_type": "markdown",
      "metadata": {
        "id": "eubPoYe18POi"
      },
      "source": [
        "### Adding Columns\n",
        "\n",
        "Lets say we want to create a column which is the sum of Institutional and Insider Holdings.  Let's call it `II_Holdings`."
      ]
    },
    {
      "cell_type": "code",
      "metadata": {
        "id": "luzJE7ct8jmz",
        "colab": {
          "base_uri": "https://localhost:8080/",
          "height": 502
        },
        "outputId": "d44b282a-9d82-4b1c-c81c-aed53805326c"
      },
      "source": [
        "inst_own[\"II_Holdings\"] = inst_own[\"Institutional Holdings\"] + inst_own[\"Insider Holdings\"]\n",
        "inst_own"
      ],
      "execution_count": null,
      "outputs": [
        {
          "output_type": "execute_result",
          "data": {
            "text/html": [
              "<div>\n",
              "<style scoped>\n",
              "    .dataframe tbody tr th:only-of-type {\n",
              "        vertical-align: middle;\n",
              "    }\n",
              "\n",
              "    .dataframe tbody tr th {\n",
              "        vertical-align: top;\n",
              "    }\n",
              "\n",
              "    .dataframe thead th {\n",
              "        text-align: right;\n",
              "    }\n",
              "</style>\n",
              "<table border=\"1\" class=\"dataframe\">\n",
              "  <thead>\n",
              "    <tr style=\"text-align: right;\">\n",
              "      <th></th>\n",
              "      <th>Industry Name</th>\n",
              "      <th>Number of Firms</th>\n",
              "      <th>CEO Holding</th>\n",
              "      <th>Institutional Holdings</th>\n",
              "      <th>Insider Holdings</th>\n",
              "      <th>II_Holdings</th>\n",
              "    </tr>\n",
              "  </thead>\n",
              "  <tbody>\n",
              "    <tr>\n",
              "      <th>0</th>\n",
              "      <td>Advertising</td>\n",
              "      <td>61</td>\n",
              "      <td>0.048845</td>\n",
              "      <td>0.303746</td>\n",
              "      <td>0.179132</td>\n",
              "      <td>0.482877</td>\n",
              "    </tr>\n",
              "    <tr>\n",
              "      <th>1</th>\n",
              "      <td>Aerospace/Defense</td>\n",
              "      <td>72</td>\n",
              "      <td>0.025742</td>\n",
              "      <td>0.534349</td>\n",
              "      <td>0.101948</td>\n",
              "      <td>0.636297</td>\n",
              "    </tr>\n",
              "    <tr>\n",
              "      <th>2</th>\n",
              "      <td>Air Transport</td>\n",
              "      <td>17</td>\n",
              "      <td>0.032045</td>\n",
              "      <td>0.649069</td>\n",
              "      <td>0.073218</td>\n",
              "      <td>0.722287</td>\n",
              "    </tr>\n",
              "    <tr>\n",
              "      <th>3</th>\n",
              "      <td>Apparel</td>\n",
              "      <td>51</td>\n",
              "      <td>0.075842</td>\n",
              "      <td>0.486852</td>\n",
              "      <td>0.189185</td>\n",
              "      <td>0.676037</td>\n",
              "    </tr>\n",
              "    <tr>\n",
              "      <th>4</th>\n",
              "      <td>Auto &amp; Truck</td>\n",
              "      <td>19</td>\n",
              "      <td>0.087504</td>\n",
              "      <td>0.451652</td>\n",
              "      <td>0.158280</td>\n",
              "      <td>0.609932</td>\n",
              "    </tr>\n",
              "    <tr>\n",
              "      <th>...</th>\n",
              "      <td>...</td>\n",
              "      <td>...</td>\n",
              "      <td>...</td>\n",
              "      <td>...</td>\n",
              "      <td>...</td>\n",
              "      <td>...</td>\n",
              "    </tr>\n",
              "    <tr>\n",
              "      <th>91</th>\n",
              "      <td>Trucking</td>\n",
              "      <td>35</td>\n",
              "      <td>0.022909</td>\n",
              "      <td>0.531682</td>\n",
              "      <td>0.187574</td>\n",
              "      <td>0.719256</td>\n",
              "    </tr>\n",
              "    <tr>\n",
              "      <th>92</th>\n",
              "      <td>Utility (General)</td>\n",
              "      <td>16</td>\n",
              "      <td>0.001024</td>\n",
              "      <td>0.815850</td>\n",
              "      <td>0.005227</td>\n",
              "      <td>0.821077</td>\n",
              "    </tr>\n",
              "    <tr>\n",
              "      <th>93</th>\n",
              "      <td>Utility (Water)</td>\n",
              "      <td>17</td>\n",
              "      <td>0.016858</td>\n",
              "      <td>0.475340</td>\n",
              "      <td>0.045610</td>\n",
              "      <td>0.520950</td>\n",
              "    </tr>\n",
              "    <tr>\n",
              "      <th>94</th>\n",
              "      <td>Total Market</td>\n",
              "      <td>7582</td>\n",
              "      <td>0.047922</td>\n",
              "      <td>0.461086</td>\n",
              "      <td>0.128503</td>\n",
              "      <td>0.589589</td>\n",
              "    </tr>\n",
              "    <tr>\n",
              "      <th>95</th>\n",
              "      <td>Total Market (without financials)</td>\n",
              "      <td>6253</td>\n",
              "      <td>0.048091</td>\n",
              "      <td>0.474558</td>\n",
              "      <td>0.129611</td>\n",
              "      <td>0.604169</td>\n",
              "    </tr>\n",
              "  </tbody>\n",
              "</table>\n",
              "<p>96 rows × 6 columns</p>\n",
              "</div>"
            ],
            "text/plain": [
              "                        Industry Name  ...  II_Holdings\n",
              "0                         Advertising  ...     0.482877\n",
              "1                   Aerospace/Defense  ...     0.636297\n",
              "2                       Air Transport  ...     0.722287\n",
              "3                             Apparel  ...     0.676037\n",
              "4                        Auto & Truck  ...     0.609932\n",
              "..                                ...  ...          ...\n",
              "91                           Trucking  ...     0.719256\n",
              "92                  Utility (General)  ...     0.821077\n",
              "93                    Utility (Water)  ...     0.520950\n",
              "94                       Total Market  ...     0.589589\n",
              "95  Total Market (without financials)  ...     0.604169\n",
              "\n",
              "[96 rows x 6 columns]"
            ]
          },
          "metadata": {
            "tags": []
          },
          "execution_count": 22
        }
      ]
    },
    {
      "cell_type": "markdown",
      "metadata": {
        "id": "xO8uE7SSm7kK"
      },
      "source": [
        "# Which Industries have the Highest Levels of Institutional Ownership?"
      ]
    },
    {
      "cell_type": "markdown",
      "metadata": {
        "id": "moiI5dY0nLLZ"
      },
      "source": [
        "We can sort the `DataFrame` on `Institutional Ownership`, and print the first 10 rows, with:"
      ]
    },
    {
      "cell_type": "code",
      "metadata": {
        "id": "htcl-_L1rJw6",
        "colab": {
          "base_uri": "https://localhost:8080/",
          "height": 432
        },
        "outputId": "12d110ae-d073-4021-eb8c-5a81e2abee34"
      },
      "source": [
        "inst_own.sort_values(\"Institutional Holdings\", ascending=False).head(10)"
      ],
      "execution_count": null,
      "outputs": [
        {
          "output_type": "execute_result",
          "data": {
            "text/html": [
              "<div>\n",
              "<style scoped>\n",
              "    .dataframe tbody tr th:only-of-type {\n",
              "        vertical-align: middle;\n",
              "    }\n",
              "\n",
              "    .dataframe tbody tr th {\n",
              "        vertical-align: top;\n",
              "    }\n",
              "\n",
              "    .dataframe thead th {\n",
              "        text-align: right;\n",
              "    }\n",
              "</style>\n",
              "<table border=\"1\" class=\"dataframe\">\n",
              "  <thead>\n",
              "    <tr style=\"text-align: right;\">\n",
              "      <th></th>\n",
              "      <th>Industry Name</th>\n",
              "      <th>Number of Firms</th>\n",
              "      <th>CEO Holding</th>\n",
              "      <th>Institutional Holdings</th>\n",
              "      <th>Insider Holdings</th>\n",
              "      <th>II_Holdings</th>\n",
              "    </tr>\n",
              "  </thead>\n",
              "  <tbody>\n",
              "    <tr>\n",
              "      <th>67</th>\n",
              "      <td>Reinsurance</td>\n",
              "      <td>2</td>\n",
              "      <td>0.002700</td>\n",
              "      <td>0.909750</td>\n",
              "      <td>0.018670</td>\n",
              "      <td>0.928420</td>\n",
              "    </tr>\n",
              "    <tr>\n",
              "      <th>58</th>\n",
              "      <td>Paper/Forest Products</td>\n",
              "      <td>15</td>\n",
              "      <td>0.002919</td>\n",
              "      <td>0.817112</td>\n",
              "      <td>0.013544</td>\n",
              "      <td>0.830656</td>\n",
              "    </tr>\n",
              "    <tr>\n",
              "      <th>92</th>\n",
              "      <td>Utility (General)</td>\n",
              "      <td>16</td>\n",
              "      <td>0.001024</td>\n",
              "      <td>0.815850</td>\n",
              "      <td>0.005227</td>\n",
              "      <td>0.821077</td>\n",
              "    </tr>\n",
              "    <tr>\n",
              "      <th>90</th>\n",
              "      <td>Transportation (Railroads)</td>\n",
              "      <td>6</td>\n",
              "      <td>0.000615</td>\n",
              "      <td>0.797600</td>\n",
              "      <td>0.002185</td>\n",
              "      <td>0.799785</td>\n",
              "    </tr>\n",
              "    <tr>\n",
              "      <th>80</th>\n",
              "      <td>Shoe</td>\n",
              "      <td>11</td>\n",
              "      <td>0.010664</td>\n",
              "      <td>0.766350</td>\n",
              "      <td>0.066496</td>\n",
              "      <td>0.832846</td>\n",
              "    </tr>\n",
              "    <tr>\n",
              "      <th>41</th>\n",
              "      <td>Homebuilding</td>\n",
              "      <td>30</td>\n",
              "      <td>0.079937</td>\n",
              "      <td>0.731192</td>\n",
              "      <td>0.162065</td>\n",
              "      <td>0.893257</td>\n",
              "    </tr>\n",
              "    <tr>\n",
              "      <th>76</th>\n",
              "      <td>Rubber&amp; Tires</td>\n",
              "      <td>3</td>\n",
              "      <td>0.039813</td>\n",
              "      <td>0.715833</td>\n",
              "      <td>0.049353</td>\n",
              "      <td>0.765187</td>\n",
              "    </tr>\n",
              "    <tr>\n",
              "      <th>62</th>\n",
              "      <td>R.E.I.T.</td>\n",
              "      <td>238</td>\n",
              "      <td>0.016343</td>\n",
              "      <td>0.713841</td>\n",
              "      <td>0.039719</td>\n",
              "      <td>0.753561</td>\n",
              "    </tr>\n",
              "    <tr>\n",
              "      <th>70</th>\n",
              "      <td>Retail (Building Supply)</td>\n",
              "      <td>15</td>\n",
              "      <td>0.014032</td>\n",
              "      <td>0.699114</td>\n",
              "      <td>0.062814</td>\n",
              "      <td>0.761929</td>\n",
              "    </tr>\n",
              "    <tr>\n",
              "      <th>46</th>\n",
              "      <td>Insurance (General)</td>\n",
              "      <td>21</td>\n",
              "      <td>0.016045</td>\n",
              "      <td>0.686328</td>\n",
              "      <td>0.110753</td>\n",
              "      <td>0.797081</td>\n",
              "    </tr>\n",
              "  </tbody>\n",
              "</table>\n",
              "</div>"
            ],
            "text/plain": [
              "                 Industry Name  Number of Firms  ...  Insider Holdings  II_Holdings\n",
              "67                 Reinsurance                2  ...          0.018670     0.928420\n",
              "58       Paper/Forest Products               15  ...          0.013544     0.830656\n",
              "92           Utility (General)               16  ...          0.005227     0.821077\n",
              "90  Transportation (Railroads)                6  ...          0.002185     0.799785\n",
              "80                        Shoe               11  ...          0.066496     0.832846\n",
              "41                Homebuilding               30  ...          0.162065     0.893257\n",
              "76               Rubber& Tires                3  ...          0.049353     0.765187\n",
              "62                    R.E.I.T.              238  ...          0.039719     0.753561\n",
              "70    Retail (Building Supply)               15  ...          0.062814     0.761929\n",
              "46         Insurance (General)               21  ...          0.110753     0.797081\n",
              "\n",
              "[10 rows x 6 columns]"
            ]
          },
          "metadata": {
            "tags": []
          },
          "execution_count": 28
        }
      ]
    },
    {
      "cell_type": "markdown",
      "metadata": {
        "id": "NGcdiUsZsAuh"
      },
      "source": [
        "We can also use `describe()` to get a fell for the data."
      ]
    },
    {
      "cell_type": "code",
      "metadata": {
        "colab": {
          "base_uri": "https://localhost:8080/",
          "height": 357
        },
        "id": "MHlYwvGUsGIk",
        "outputId": "298ac179-3c22-4157-84d0-d0c8e3d9dcc1"
      },
      "source": [
        "inst_own.describe()"
      ],
      "execution_count": null,
      "outputs": [
        {
          "output_type": "execute_result",
          "data": {
            "text/html": [
              "<div>\n",
              "<style scoped>\n",
              "    .dataframe tbody tr th:only-of-type {\n",
              "        vertical-align: middle;\n",
              "    }\n",
              "\n",
              "    .dataframe tbody tr th {\n",
              "        vertical-align: top;\n",
              "    }\n",
              "\n",
              "    .dataframe thead th {\n",
              "        text-align: right;\n",
              "    }\n",
              "</style>\n",
              "<table border=\"1\" class=\"dataframe\">\n",
              "  <thead>\n",
              "    <tr style=\"text-align: right;\">\n",
              "      <th></th>\n",
              "      <th>Number of Firms</th>\n",
              "      <th>CEO Holding</th>\n",
              "      <th>Institutional Holdings</th>\n",
              "      <th>Insider Holdings</th>\n",
              "    </tr>\n",
              "  </thead>\n",
              "  <tbody>\n",
              "    <tr>\n",
              "      <th>count</th>\n",
              "      <td>96.000000</td>\n",
              "      <td>96.000000</td>\n",
              "      <td>96.000000</td>\n",
              "      <td>96.000000</td>\n",
              "    </tr>\n",
              "    <tr>\n",
              "      <th>mean</th>\n",
              "      <td>223.010417</td>\n",
              "      <td>0.049678</td>\n",
              "      <td>0.510069</td>\n",
              "      <td>0.127378</td>\n",
              "    </tr>\n",
              "    <tr>\n",
              "      <th>std</th>\n",
              "      <td>991.790051</td>\n",
              "      <td>0.036787</td>\n",
              "      <td>0.143650</td>\n",
              "      <td>0.062098</td>\n",
              "    </tr>\n",
              "    <tr>\n",
              "      <th>min</th>\n",
              "      <td>2.000000</td>\n",
              "      <td>0.000177</td>\n",
              "      <td>0.167860</td>\n",
              "      <td>0.001430</td>\n",
              "    </tr>\n",
              "    <tr>\n",
              "      <th>25%</th>\n",
              "      <td>22.000000</td>\n",
              "      <td>0.019778</td>\n",
              "      <td>0.418634</td>\n",
              "      <td>0.086168</td>\n",
              "    </tr>\n",
              "    <tr>\n",
              "      <th>50%</th>\n",
              "      <td>47.000000</td>\n",
              "      <td>0.048007</td>\n",
              "      <td>0.498227</td>\n",
              "      <td>0.127803</td>\n",
              "    </tr>\n",
              "    <tr>\n",
              "      <th>75%</th>\n",
              "      <td>96.250000</td>\n",
              "      <td>0.071761</td>\n",
              "      <td>0.605439</td>\n",
              "      <td>0.166659</td>\n",
              "    </tr>\n",
              "    <tr>\n",
              "      <th>max</th>\n",
              "      <td>7582.000000</td>\n",
              "      <td>0.233067</td>\n",
              "      <td>0.909750</td>\n",
              "      <td>0.371873</td>\n",
              "    </tr>\n",
              "  </tbody>\n",
              "</table>\n",
              "</div>"
            ],
            "text/plain": [
              "       Number of Firms  CEO Holding  Institutional Holdings  Insider Holdings\n",
              "count        96.000000    96.000000               96.000000         96.000000\n",
              "mean        223.010417     0.049678                0.510069          0.127378\n",
              "std         991.790051     0.036787                0.143650          0.062098\n",
              "min           2.000000     0.000177                0.167860          0.001430\n",
              "25%          22.000000     0.019778                0.418634          0.086168\n",
              "50%          47.000000     0.048007                0.498227          0.127803\n",
              "75%          96.250000     0.071761                0.605439          0.166659\n",
              "max        7582.000000     0.233067                0.909750          0.371873"
            ]
          },
          "metadata": {
            "tags": []
          },
          "execution_count": 9
        }
      ]
    },
    {
      "cell_type": "markdown",
      "metadata": {
        "id": "vzvhtmvKgU9V"
      },
      "source": [
        "## Get accounting returns data."
      ]
    },
    {
      "cell_type": "code",
      "metadata": {
        "id": "kop2aQvcgfWh",
        "colab": {
          "base_uri": "https://localhost:8080/",
          "height": 502
        },
        "outputId": "ec990d19-668a-4c0a-dd1f-f047db423df0"
      },
      "source": [
        "# returns_url = \"http://www.stern.nyu.edu/~adamodar/pc/datasets/pbvdata.xls\"\n",
        "returns_url = \"https://github.com/FinancialMarkets/industry_instown_with_data_error_to_clean/blob/master/pbvdata.xls?raw=true\"\n",
        "returns = pd.read_excel(returns_url, skiprows = 7)\n",
        "returns"
      ],
      "execution_count": null,
      "outputs": [
        {
          "output_type": "execute_result",
          "data": {
            "text/html": [
              "<div>\n",
              "<style scoped>\n",
              "    .dataframe tbody tr th:only-of-type {\n",
              "        vertical-align: middle;\n",
              "    }\n",
              "\n",
              "    .dataframe tbody tr th {\n",
              "        vertical-align: top;\n",
              "    }\n",
              "\n",
              "    .dataframe thead th {\n",
              "        text-align: right;\n",
              "    }\n",
              "</style>\n",
              "<table border=\"1\" class=\"dataframe\">\n",
              "  <thead>\n",
              "    <tr style=\"text-align: right;\">\n",
              "      <th></th>\n",
              "      <th>Industry  Name</th>\n",
              "      <th>Number of firms</th>\n",
              "      <th>PBV</th>\n",
              "      <th>ROE</th>\n",
              "      <th>EV/ Invested Capital</th>\n",
              "      <th>ROIC</th>\n",
              "    </tr>\n",
              "  </thead>\n",
              "  <tbody>\n",
              "    <tr>\n",
              "      <th>0</th>\n",
              "      <td>Advertising</td>\n",
              "      <td>61</td>\n",
              "      <td>5.729582</td>\n",
              "      <td>0.029333</td>\n",
              "      <td>7.009509</td>\n",
              "      <td>0.515119</td>\n",
              "    </tr>\n",
              "    <tr>\n",
              "      <th>1</th>\n",
              "      <td>Aerospace/Defense</td>\n",
              "      <td>72</td>\n",
              "      <td>4.436925</td>\n",
              "      <td>0.085432</td>\n",
              "      <td>4.236895</td>\n",
              "      <td>0.191149</td>\n",
              "    </tr>\n",
              "    <tr>\n",
              "      <th>2</th>\n",
              "      <td>Air Transport</td>\n",
              "      <td>17</td>\n",
              "      <td>3.224150</td>\n",
              "      <td>-0.470269</td>\n",
              "      <td>1.762879</td>\n",
              "      <td>-0.160654</td>\n",
              "    </tr>\n",
              "    <tr>\n",
              "      <th>3</th>\n",
              "      <td>Apparel</td>\n",
              "      <td>51</td>\n",
              "      <td>4.111694</td>\n",
              "      <td>-0.081881</td>\n",
              "      <td>3.071836</td>\n",
              "      <td>0.075423</td>\n",
              "    </tr>\n",
              "    <tr>\n",
              "      <th>4</th>\n",
              "      <td>Auto &amp; Truck</td>\n",
              "      <td>19</td>\n",
              "      <td>7.578762</td>\n",
              "      <td>0.044885</td>\n",
              "      <td>2.583233</td>\n",
              "      <td>0.011709</td>\n",
              "    </tr>\n",
              "    <tr>\n",
              "      <th>...</th>\n",
              "      <td>...</td>\n",
              "      <td>...</td>\n",
              "      <td>...</td>\n",
              "      <td>...</td>\n",
              "      <td>...</td>\n",
              "      <td>...</td>\n",
              "    </tr>\n",
              "    <tr>\n",
              "      <th>91</th>\n",
              "      <td>Trucking</td>\n",
              "      <td>35</td>\n",
              "      <td>4.811726</td>\n",
              "      <td>-0.176956</td>\n",
              "      <td>2.568211</td>\n",
              "      <td>-0.040357</td>\n",
              "    </tr>\n",
              "    <tr>\n",
              "      <th>92</th>\n",
              "      <td>Utility (General)</td>\n",
              "      <td>16</td>\n",
              "      <td>1.840435</td>\n",
              "      <td>0.074857</td>\n",
              "      <td>1.476021</td>\n",
              "      <td>0.067851</td>\n",
              "    </tr>\n",
              "    <tr>\n",
              "      <th>93</th>\n",
              "      <td>Utility (Water)</td>\n",
              "      <td>17</td>\n",
              "      <td>3.507385</td>\n",
              "      <td>0.082466</td>\n",
              "      <td>2.376167</td>\n",
              "      <td>0.060506</td>\n",
              "    </tr>\n",
              "    <tr>\n",
              "      <th>94</th>\n",
              "      <td>Total Market</td>\n",
              "      <td>7582</td>\n",
              "      <td>3.813854</td>\n",
              "      <td>0.082466</td>\n",
              "      <td>2.401274</td>\n",
              "      <td>0.060506</td>\n",
              "    </tr>\n",
              "    <tr>\n",
              "      <th>95</th>\n",
              "      <td>Total Market (without financials)</td>\n",
              "      <td>6253</td>\n",
              "      <td>4.750108</td>\n",
              "      <td>0.077751</td>\n",
              "      <td>3.423948</td>\n",
              "      <td>0.105844</td>\n",
              "    </tr>\n",
              "  </tbody>\n",
              "</table>\n",
              "<p>96 rows × 6 columns</p>\n",
              "</div>"
            ],
            "text/plain": [
              "                       Industry  Name  ...      ROIC\n",
              "0                         Advertising  ...  0.515119\n",
              "1                   Aerospace/Defense  ...  0.191149\n",
              "2                       Air Transport  ... -0.160654\n",
              "3                             Apparel  ...  0.075423\n",
              "4                        Auto & Truck  ...  0.011709\n",
              "..                                ...  ...       ...\n",
              "91                           Trucking  ... -0.040357\n",
              "92                  Utility (General)  ...  0.067851\n",
              "93                    Utility (Water)  ...  0.060506\n",
              "94                       Total Market  ...  0.060506\n",
              "95  Total Market (without financials)  ...  0.105844\n",
              "\n",
              "[96 rows x 6 columns]"
            ]
          },
          "metadata": {
            "tags": []
          },
          "execution_count": 29
        }
      ]
    },
    {
      "cell_type": "markdown",
      "metadata": {
        "id": "BBTsBS7ngjyb"
      },
      "source": [
        "### Merge the two data sets on the Industry Name"
      ]
    },
    {
      "cell_type": "code",
      "metadata": {
        "id": "jJ2Dmz8Ggof7",
        "colab": {
          "base_uri": "https://localhost:8080/",
          "height": 361
        },
        "outputId": "c1c33721-7789-4a55-92de-f681ea583827"
      },
      "source": [
        "all_data = pd.merge(inst_own, returns, on = 'Industry Name')"
      ],
      "execution_count": null,
      "outputs": [
        {
          "output_type": "error",
          "ename": "KeyError",
          "evalue": "ignored",
          "traceback": [
            "\u001b[0;31m---------------------------------------------------------------------------\u001b[0m",
            "\u001b[0;31mKeyError\u001b[0m                                  Traceback (most recent call last)",
            "\u001b[0;32m<ipython-input-30-88ac0214d382>\u001b[0m in \u001b[0;36m<module>\u001b[0;34m()\u001b[0m\n\u001b[0;32m----> 1\u001b[0;31m \u001b[0mall_data\u001b[0m \u001b[0;34m=\u001b[0m \u001b[0mpd\u001b[0m\u001b[0;34m.\u001b[0m\u001b[0mmerge\u001b[0m\u001b[0;34m(\u001b[0m\u001b[0minst_own\u001b[0m\u001b[0;34m,\u001b[0m \u001b[0mreturns\u001b[0m\u001b[0;34m,\u001b[0m \u001b[0mon\u001b[0m \u001b[0;34m=\u001b[0m \u001b[0;34m'Industry Name'\u001b[0m\u001b[0;34m)\u001b[0m\u001b[0;34m\u001b[0m\u001b[0;34m\u001b[0m\u001b[0m\n\u001b[0m",
            "\u001b[0;32m/usr/local/lib/python3.7/dist-packages/pandas/core/reshape/merge.py\u001b[0m in \u001b[0;36mmerge\u001b[0;34m(left, right, how, on, left_on, right_on, left_index, right_index, sort, suffixes, copy, indicator, validate)\u001b[0m\n\u001b[1;32m     85\u001b[0m         \u001b[0mcopy\u001b[0m\u001b[0;34m=\u001b[0m\u001b[0mcopy\u001b[0m\u001b[0;34m,\u001b[0m\u001b[0;34m\u001b[0m\u001b[0;34m\u001b[0m\u001b[0m\n\u001b[1;32m     86\u001b[0m         \u001b[0mindicator\u001b[0m\u001b[0;34m=\u001b[0m\u001b[0mindicator\u001b[0m\u001b[0;34m,\u001b[0m\u001b[0;34m\u001b[0m\u001b[0;34m\u001b[0m\u001b[0m\n\u001b[0;32m---> 87\u001b[0;31m         \u001b[0mvalidate\u001b[0m\u001b[0;34m=\u001b[0m\u001b[0mvalidate\u001b[0m\u001b[0;34m,\u001b[0m\u001b[0;34m\u001b[0m\u001b[0;34m\u001b[0m\u001b[0m\n\u001b[0m\u001b[1;32m     88\u001b[0m     )\n\u001b[1;32m     89\u001b[0m     \u001b[0;32mreturn\u001b[0m \u001b[0mop\u001b[0m\u001b[0;34m.\u001b[0m\u001b[0mget_result\u001b[0m\u001b[0;34m(\u001b[0m\u001b[0;34m)\u001b[0m\u001b[0;34m\u001b[0m\u001b[0;34m\u001b[0m\u001b[0m\n",
            "\u001b[0;32m/usr/local/lib/python3.7/dist-packages/pandas/core/reshape/merge.py\u001b[0m in \u001b[0;36m__init__\u001b[0;34m(self, left, right, how, on, left_on, right_on, axis, left_index, right_index, sort, suffixes, copy, indicator, validate)\u001b[0m\n\u001b[1;32m    650\u001b[0m             \u001b[0mself\u001b[0m\u001b[0;34m.\u001b[0m\u001b[0mright_join_keys\u001b[0m\u001b[0;34m,\u001b[0m\u001b[0;34m\u001b[0m\u001b[0;34m\u001b[0m\u001b[0m\n\u001b[1;32m    651\u001b[0m             \u001b[0mself\u001b[0m\u001b[0;34m.\u001b[0m\u001b[0mjoin_names\u001b[0m\u001b[0;34m,\u001b[0m\u001b[0;34m\u001b[0m\u001b[0;34m\u001b[0m\u001b[0m\n\u001b[0;32m--> 652\u001b[0;31m         ) = self._get_merge_keys()\n\u001b[0m\u001b[1;32m    653\u001b[0m \u001b[0;34m\u001b[0m\u001b[0m\n\u001b[1;32m    654\u001b[0m         \u001b[0;31m# validate the merge keys dtypes. We may need to coerce\u001b[0m\u001b[0;34m\u001b[0m\u001b[0;34m\u001b[0m\u001b[0;34m\u001b[0m\u001b[0m\n",
            "\u001b[0;32m/usr/local/lib/python3.7/dist-packages/pandas/core/reshape/merge.py\u001b[0m in \u001b[0;36m_get_merge_keys\u001b[0;34m(self)\u001b[0m\n\u001b[1;32m   1003\u001b[0m                     \u001b[0;32mif\u001b[0m \u001b[0;32mnot\u001b[0m \u001b[0mis_rkey\u001b[0m\u001b[0;34m(\u001b[0m\u001b[0mrk\u001b[0m\u001b[0;34m)\u001b[0m\u001b[0;34m:\u001b[0m\u001b[0;34m\u001b[0m\u001b[0;34m\u001b[0m\u001b[0m\n\u001b[1;32m   1004\u001b[0m                         \u001b[0;32mif\u001b[0m \u001b[0mrk\u001b[0m \u001b[0;32mis\u001b[0m \u001b[0;32mnot\u001b[0m \u001b[0;32mNone\u001b[0m\u001b[0;34m:\u001b[0m\u001b[0;34m\u001b[0m\u001b[0;34m\u001b[0m\u001b[0m\n\u001b[0;32m-> 1005\u001b[0;31m                             \u001b[0mright_keys\u001b[0m\u001b[0;34m.\u001b[0m\u001b[0mappend\u001b[0m\u001b[0;34m(\u001b[0m\u001b[0mright\u001b[0m\u001b[0;34m.\u001b[0m\u001b[0m_get_label_or_level_values\u001b[0m\u001b[0;34m(\u001b[0m\u001b[0mrk\u001b[0m\u001b[0;34m)\u001b[0m\u001b[0;34m)\u001b[0m\u001b[0;34m\u001b[0m\u001b[0;34m\u001b[0m\u001b[0m\n\u001b[0m\u001b[1;32m   1006\u001b[0m                         \u001b[0;32melse\u001b[0m\u001b[0;34m:\u001b[0m\u001b[0;34m\u001b[0m\u001b[0;34m\u001b[0m\u001b[0m\n\u001b[1;32m   1007\u001b[0m                             \u001b[0;31m# work-around for merge_asof(right_index=True)\u001b[0m\u001b[0;34m\u001b[0m\u001b[0;34m\u001b[0m\u001b[0;34m\u001b[0m\u001b[0m\n",
            "\u001b[0;32m/usr/local/lib/python3.7/dist-packages/pandas/core/generic.py\u001b[0m in \u001b[0;36m_get_label_or_level_values\u001b[0;34m(self, key, axis)\u001b[0m\n\u001b[1;32m   1561\u001b[0m             \u001b[0mvalues\u001b[0m \u001b[0;34m=\u001b[0m \u001b[0mself\u001b[0m\u001b[0;34m.\u001b[0m\u001b[0maxes\u001b[0m\u001b[0;34m[\u001b[0m\u001b[0maxis\u001b[0m\u001b[0;34m]\u001b[0m\u001b[0;34m.\u001b[0m\u001b[0mget_level_values\u001b[0m\u001b[0;34m(\u001b[0m\u001b[0mkey\u001b[0m\u001b[0;34m)\u001b[0m\u001b[0;34m.\u001b[0m\u001b[0m_values\u001b[0m\u001b[0;34m\u001b[0m\u001b[0;34m\u001b[0m\u001b[0m\n\u001b[1;32m   1562\u001b[0m         \u001b[0;32melse\u001b[0m\u001b[0;34m:\u001b[0m\u001b[0;34m\u001b[0m\u001b[0;34m\u001b[0m\u001b[0m\n\u001b[0;32m-> 1563\u001b[0;31m             \u001b[0;32mraise\u001b[0m \u001b[0mKeyError\u001b[0m\u001b[0;34m(\u001b[0m\u001b[0mkey\u001b[0m\u001b[0;34m)\u001b[0m\u001b[0;34m\u001b[0m\u001b[0;34m\u001b[0m\u001b[0m\n\u001b[0m\u001b[1;32m   1564\u001b[0m \u001b[0;34m\u001b[0m\u001b[0m\n\u001b[1;32m   1565\u001b[0m         \u001b[0;31m# Check for duplicates\u001b[0m\u001b[0;34m\u001b[0m\u001b[0;34m\u001b[0m\u001b[0;34m\u001b[0m\u001b[0m\n",
            "\u001b[0;31mKeyError\u001b[0m: 'Industry Name'"
          ]
        }
      ]
    },
    {
      "cell_type": "code",
      "metadata": {
        "id": "ZtUU1qNtlnrS",
        "colab": {
          "base_uri": "https://localhost:8080/"
        },
        "outputId": "6c46aec9-4262-4ab3-a117-ed5ca4cb94a0"
      },
      "source": [
        "returns.columns"
      ],
      "execution_count": null,
      "outputs": [
        {
          "output_type": "execute_result",
          "data": {
            "text/plain": [
              "Index(['Industry  Name', 'Number of firms', 'PBV', 'ROE',\n",
              "       'EV/ Invested Capital', 'ROIC'],\n",
              "      dtype='object')"
            ]
          },
          "metadata": {
            "tags": []
          },
          "execution_count": 31
        }
      ]
    },
    {
      "cell_type": "code",
      "metadata": {
        "id": "CfCzHhfTlr16",
        "colab": {
          "base_uri": "https://localhost:8080/"
        },
        "outputId": "fa7c9f7c-ffe1-48a3-81a6-4f0be6ff83d9"
      },
      "source": [
        "inst_own.columns"
      ],
      "execution_count": null,
      "outputs": [
        {
          "output_type": "execute_result",
          "data": {
            "text/plain": [
              "Index(['Industry Name', 'Number of Firms', 'CEO Holding',\n",
              "       'Institutional Holdings', 'Insider Holdings', 'II_Holdings'],\n",
              "      dtype='object')"
            ]
          },
          "metadata": {
            "tags": []
          },
          "execution_count": 32
        }
      ]
    },
    {
      "cell_type": "markdown",
      "metadata": {
        "id": "nLdZ35n-kTOt"
      },
      "source": [
        "However this throws an error, specifically `KeyError: 'Industry Name'`.  So it is not finding the same column in each `DataFrame`.\n",
        "\n",
        "With a little inspection, we find that in the returns file, there are two spaces in `Industry  Name` and one space in the institutional ownership file.  \n",
        "\n",
        "Having spaces in column names is not a good practice, but let's just change the column name in the returns file to have one space between Industry and Name."
      ]
    },
    {
      "cell_type": "code",
      "metadata": {
        "id": "Lj1vDD5NlHZ_"
      },
      "source": [
        "returns.rename(columns={'Industry  Name': 'Industry Name'}, inplace=True)"
      ],
      "execution_count": null,
      "outputs": []
    },
    {
      "cell_type": "code",
      "metadata": {
        "id": "KfvbSeU0l45H",
        "colab": {
          "base_uri": "https://localhost:8080/"
        },
        "outputId": "5226759c-3540-484e-df53-4e0e1be1b77e"
      },
      "source": [
        "returns.columns"
      ],
      "execution_count": null,
      "outputs": [
        {
          "output_type": "execute_result",
          "data": {
            "text/plain": [
              "Index(['Industry Name', 'Number of firms', 'PBV', 'ROE',\n",
              "       'EV/ Invested Capital', 'ROIC'],\n",
              "      dtype='object')"
            ]
          },
          "metadata": {
            "tags": []
          },
          "execution_count": 34
        }
      ]
    },
    {
      "cell_type": "code",
      "metadata": {
        "id": "50UqsEflgB2_"
      },
      "source": [
        "all_data = pd.merge(inst_own, returns, on = 'Industry Name')"
      ],
      "execution_count": null,
      "outputs": []
    },
    {
      "cell_type": "code",
      "metadata": {
        "id": "NwdU-z8jgNTq"
      },
      "source": [
        "all_data"
      ],
      "execution_count": null,
      "outputs": []
    },
    {
      "cell_type": "markdown",
      "metadata": {
        "id": "s8nSyvAvgRk1"
      },
      "source": [
        "# Exercise:  \n",
        "\n",
        "Select only the columns you want and calculate a correlation matrix.  Calculate the matrix.  What is the correlation coefficient between Institutional Ownership and ROE?"
      ]
    },
    {
      "cell_type": "markdown",
      "metadata": {
        "id": "bFOo8TTuDYI8"
      },
      "source": [
        "[Hint](https://pandas.pydata.org/pandas-docs/stable/user_guide/computation.html?highlight=correlation%20matrix)"
      ]
    },
    {
      "cell_type": "markdown",
      "metadata": {
        "id": "up3kBsbT9qYt"
      },
      "source": [
        "# Addendum\n",
        "\n",
        "At this point you may have noticed we call certain 'functions' with `name(a)` and others with `a.name()` where `a` is some object.  As examples, we have used `dir(module)` and `len(object)` but also use `inst_own.sort_values()` and `inst_own.drop()` above.\n",
        "\n",
        "The difference has to do with the distinction between functions and methods, and this is a topic within Python's class system which we don't want or need to worry about at this point. That said, we use `name(a)` when `name` is a globally defined function.  We use `a.name()` when `name` is a method defined for an object of class (a is an instance of an object of the class).  \n",
        "\n",
        "You can read more in Section 9.3.4 here: https://docs.python.org/3/tutorial/classes.html\n",
        "\n",
        "You can read more here and at the referenced links: https://stackoverflow.com/questions/28703834/why-do-some-methods-use-dot-notation-and-others-dont"
      ]
    }
  ]
}